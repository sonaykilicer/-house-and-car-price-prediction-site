{
 "cells": [
  {
   "cell_type": "code",
   "execution_count": 539,
   "id": "37d7a171",
   "metadata": {},
   "outputs": [],
   "source": [
    "from sklearn.model_selection import train_test_split, GridSearchCV,cross_val_score\n",
    "from sklearn.metrics import mean_squared_error, r2_score\n",
    "import pandas as pd\n",
    "import numpy as np\n",
    "import xgboost as xgb\n",
    "from xgboost import XGBRegressor\n",
    "from sklearn import model_selection\n",
    "from sklearn.metrics import accuracy_score"
   ]
  },
  {
   "cell_type": "code",
   "execution_count": 448,
   "id": "09f21e9d",
   "metadata": {},
   "outputs": [],
   "source": [
    "df_2 = pd.read_csv(\"emlak_verisi_son.csv\")\n",
    "df_2.drop(\"Unnamed: 0\", axis = 1, inplace = True)\n",
    "df_2.drop(\"Sehir\", axis = 1, inplace = True)\n",
    "df_2.drop(\"Mahalle\", axis = 1, inplace = True)\n",
    "df_2.dropna(inplace = True)\n",
    "df = df_2.copy()"
   ]
  },
  {
   "cell_type": "code",
   "execution_count": 449,
   "id": "8eaa3c35",
   "metadata": {},
   "outputs": [],
   "source": [
    "df = df[[\"İlce\",\"Fiyat\",\"brüt metrekare\",\"Net Metrekare\",\"Oda Sayısı\",\"Binanın Yaşı\",\"Bulunduğu Kat\"]]"
   ]
  },
  {
   "cell_type": "code",
   "execution_count": 450,
   "id": "6fec397e",
   "metadata": {},
   "outputs": [],
   "source": [
    "#df.dropna(inplace = True)"
   ]
  },
  {
   "cell_type": "code",
   "execution_count": 537,
   "id": "88758b08",
   "metadata": {},
   "outputs": [
    {
     "data": {
      "text/html": [
       "<div>\n",
       "<style scoped>\n",
       "    .dataframe tbody tr th:only-of-type {\n",
       "        vertical-align: middle;\n",
       "    }\n",
       "\n",
       "    .dataframe tbody tr th {\n",
       "        vertical-align: top;\n",
       "    }\n",
       "\n",
       "    .dataframe thead th {\n",
       "        text-align: right;\n",
       "    }\n",
       "</style>\n",
       "<table border=\"1\" class=\"dataframe\">\n",
       "  <thead>\n",
       "    <tr style=\"text-align: right;\">\n",
       "      <th></th>\n",
       "      <th>İlce</th>\n",
       "      <th>Fiyat</th>\n",
       "      <th>brüt metrekare</th>\n",
       "      <th>Net Metrekare</th>\n",
       "      <th>Oda Sayısı</th>\n",
       "      <th>Binanın Yaşı</th>\n",
       "      <th>Bulunduğu Kat</th>\n",
       "    </tr>\n",
       "  </thead>\n",
       "  <tbody>\n",
       "    <tr>\n",
       "      <th>0</th>\n",
       "      <td>20</td>\n",
       "      <td>1890000</td>\n",
       "      <td>107</td>\n",
       "      <td>70</td>\n",
       "      <td>3</td>\n",
       "      <td>8</td>\n",
       "      <td>8</td>\n",
       "    </tr>\n",
       "    <tr>\n",
       "      <th>1</th>\n",
       "      <td>20</td>\n",
       "      <td>1310000</td>\n",
       "      <td>120</td>\n",
       "      <td>105</td>\n",
       "      <td>5</td>\n",
       "      <td>0</td>\n",
       "      <td>19</td>\n",
       "    </tr>\n",
       "    <tr>\n",
       "      <th>2</th>\n",
       "      <td>7</td>\n",
       "      <td>900000</td>\n",
       "      <td>75</td>\n",
       "      <td>68</td>\n",
       "      <td>3</td>\n",
       "      <td>8</td>\n",
       "      <td>13</td>\n",
       "    </tr>\n",
       "    <tr>\n",
       "      <th>3</th>\n",
       "      <td>9</td>\n",
       "      <td>1575000</td>\n",
       "      <td>200</td>\n",
       "      <td>185</td>\n",
       "      <td>5</td>\n",
       "      <td>2</td>\n",
       "      <td>13</td>\n",
       "    </tr>\n",
       "    <tr>\n",
       "      <th>4</th>\n",
       "      <td>15</td>\n",
       "      <td>775000</td>\n",
       "      <td>100</td>\n",
       "      <td>90</td>\n",
       "      <td>3</td>\n",
       "      <td>5</td>\n",
       "      <td>12</td>\n",
       "    </tr>\n",
       "  </tbody>\n",
       "</table>\n",
       "</div>"
      ],
      "text/plain": [
       "   İlce    Fiyat  brüt metrekare  Net Metrekare  Oda Sayısı  Binanın Yaşı  \\\n",
       "0    20  1890000             107             70           3             8   \n",
       "1    20  1310000             120            105           5             0   \n",
       "2     7   900000              75             68           3             8   \n",
       "3     9  1575000             200            185           5             2   \n",
       "4    15   775000             100             90           3             5   \n",
       "\n",
       "   Bulunduğu Kat  \n",
       "0              8  \n",
       "1             19  \n",
       "2             13  \n",
       "3             13  \n",
       "4             12  "
      ]
     },
     "execution_count": 537,
     "metadata": {},
     "output_type": "execute_result"
    }
   ],
   "source": [
    "df.head()"
   ]
  },
  {
   "cell_type": "code",
   "execution_count": 452,
   "id": "47b7dfa2",
   "metadata": {},
   "outputs": [],
   "source": [
    "y = df[\"Fiyat\"]\n",
    "X = df.drop([\"Fiyat\"], axis = 1)"
   ]
  },
  {
   "cell_type": "code",
   "execution_count": 453,
   "id": "52110a4d",
   "metadata": {
    "scrolled": true
   },
   "outputs": [
    {
     "data": {
      "text/plain": [
       "0         1890000\n",
       "1         1310000\n",
       "2          900000\n",
       "3         1575000\n",
       "4          775000\n",
       "          ...    \n",
       "1405      1575000\n",
       "1406    200000000\n",
       "1407       495000\n",
       "1408       390000\n",
       "1409       450000\n",
       "Name: Fiyat, Length: 1410, dtype: int64"
      ]
     },
     "execution_count": 453,
     "metadata": {},
     "output_type": "execute_result"
    }
   ],
   "source": [
    "y"
   ]
  },
  {
   "cell_type": "code",
   "execution_count": 454,
   "id": "29a37f61",
   "metadata": {},
   "outputs": [],
   "source": [
    "X_train, X_test, y_train, y_test = train_test_split(X, y, test_size = 0.25, random_state = 144)"
   ]
  },
  {
   "cell_type": "code",
   "execution_count": 455,
   "id": "d55c65e2",
   "metadata": {},
   "outputs": [],
   "source": [
    "#GridSearchCV"
   ]
  },
  {
   "cell_type": "code",
   "execution_count": 536,
   "id": "c3cdad95",
   "metadata": {},
   "outputs": [
    {
     "data": {
      "text/plain": [
       "{'colsample_bytree': [0.4, 0.5, 0.6],\n",
       " 'learning_rate': [0.01, 0.02, 0.09],\n",
       " 'max_depth': [2, 3, 4, 5, 6],\n",
       " 'n_estimators': [100, 200, 500, 2000]}"
      ]
     },
     "execution_count": 536,
     "metadata": {},
     "output_type": "execute_result"
    }
   ],
   "source": [
    "params = {\"colsample_bytree\":[0.4,0.5,0.6],\n",
    "         \"learning_rate\":[0.01,0.02,0.09],\n",
    "         \"max_depth\":[2,3,4,5,6],\n",
    "         \"n_estimators\":[100,200,500,2000]}\n",
    "params"
   ]
  },
  {
   "cell_type": "code",
   "execution_count": 457,
   "id": "189cd5f9",
   "metadata": {},
   "outputs": [],
   "source": [
    "xgb = XGBRegressor()"
   ]
  },
  {
   "cell_type": "code",
   "execution_count": 458,
   "id": "929c99c9",
   "metadata": {},
   "outputs": [],
   "source": [
    "grid = GridSearchCV(xgb, params, cv = 10, n_jobs = -1, verbose = 2)"
   ]
  },
  {
   "cell_type": "code",
   "execution_count": 459,
   "id": "c808ba2d",
   "metadata": {},
   "outputs": [
    {
     "name": "stdout",
     "output_type": "stream",
     "text": [
      "Fitting 10 folds for each of 180 candidates, totalling 1800 fits\n"
     ]
    },
    {
     "name": "stderr",
     "output_type": "stream",
     "text": [
      "C:\\Users\\sonay\\AppData\\Local\\Programs\\Python\\Python310\\lib\\site-packages\\xgboost\\data.py:262: FutureWarning: pandas.Int64Index is deprecated and will be removed from pandas in a future version. Use pandas.Index with the appropriate dtype instead.\n",
      "  elif isinstance(data.columns, (pd.Int64Index, pd.RangeIndex)):\n"
     ]
    },
    {
     "data": {
      "text/plain": [
       "GridSearchCV(cv=10,\n",
       "             estimator=XGBRegressor(base_score=None, booster=None,\n",
       "                                    colsample_bylevel=None,\n",
       "                                    colsample_bynode=None,\n",
       "                                    colsample_bytree=None,\n",
       "                                    enable_categorical=False, gamma=None,\n",
       "                                    gpu_id=None, importance_type=None,\n",
       "                                    interaction_constraints=None,\n",
       "                                    learning_rate=None, max_delta_step=None,\n",
       "                                    max_depth=None, min_child_weight=None,\n",
       "                                    missing=nan, monotone_constraints=None,\n",
       "                                    n_estimators=100, n_jobs=None,\n",
       "                                    num_parallel_tree=None, predictor=None,\n",
       "                                    random_state=None, reg_alpha=None,\n",
       "                                    reg_lambda=None, scale_pos_weight=None,\n",
       "                                    subsample=None, tree_method=None,\n",
       "                                    validate_parameters=None, verbosity=None),\n",
       "             n_jobs=-1,\n",
       "             param_grid={'colsample_bytree': [0.4, 0.5, 0.6],\n",
       "                         'learning_rate': [0.01, 0.02, 0.09],\n",
       "                         'max_depth': [2, 3, 4, 5, 6],\n",
       "                         'n_estimators': [100, 200, 500, 2000]},\n",
       "             verbose=2)"
      ]
     },
     "execution_count": 459,
     "metadata": {},
     "output_type": "execute_result"
    }
   ],
   "source": [
    "grid.fit(X_train, y_train)"
   ]
  },
  {
   "cell_type": "code",
   "execution_count": 466,
   "id": "2c052b27",
   "metadata": {},
   "outputs": [
    {
     "data": {
      "text/plain": [
       "{'colsample_bytree': 0.5,\n",
       " 'learning_rate': 0.02,\n",
       " 'max_depth': 5,\n",
       " 'n_estimators': 100}"
      ]
     },
     "execution_count": 466,
     "metadata": {},
     "output_type": "execute_result"
    }
   ],
   "source": [
    "grid.best_params_"
   ]
  },
  {
   "cell_type": "code",
   "execution_count": 467,
   "id": "ea523503",
   "metadata": {},
   "outputs": [],
   "source": [
    "xgb1 = XGBRegressor(colsample_bytree = 0.5, learning_rate = 0.09, max_depth = 4, n_estimators = 2000)\n"
   ]
  },
  {
   "cell_type": "code",
   "execution_count": 468,
   "id": "96b7d322",
   "metadata": {},
   "outputs": [],
   "source": [
    "model_xgb = xgb1.fit(X_train, y_train)"
   ]
  },
  {
   "cell_type": "code",
   "execution_count": 469,
   "id": "c1a458b8",
   "metadata": {},
   "outputs": [
    {
     "data": {
      "text/html": [
       "<div>\n",
       "<style scoped>\n",
       "    .dataframe tbody tr th:only-of-type {\n",
       "        vertical-align: middle;\n",
       "    }\n",
       "\n",
       "    .dataframe tbody tr th {\n",
       "        vertical-align: top;\n",
       "    }\n",
       "\n",
       "    .dataframe thead th {\n",
       "        text-align: right;\n",
       "    }\n",
       "</style>\n",
       "<table border=\"1\" class=\"dataframe\">\n",
       "  <thead>\n",
       "    <tr style=\"text-align: right;\">\n",
       "      <th></th>\n",
       "      <th>İlce</th>\n",
       "      <th>brüt metrekare</th>\n",
       "      <th>Net Metrekare</th>\n",
       "      <th>Oda Sayısı</th>\n",
       "      <th>Binanın Yaşı</th>\n",
       "      <th>Bulunduğu Kat</th>\n",
       "    </tr>\n",
       "  </thead>\n",
       "  <tbody>\n",
       "    <tr>\n",
       "      <th>160</th>\n",
       "      <td>9</td>\n",
       "      <td>105</td>\n",
       "      <td>100</td>\n",
       "      <td>1</td>\n",
       "      <td>0</td>\n",
       "      <td>16</td>\n",
       "    </tr>\n",
       "    <tr>\n",
       "      <th>1214</th>\n",
       "      <td>9</td>\n",
       "      <td>110</td>\n",
       "      <td>100</td>\n",
       "      <td>3</td>\n",
       "      <td>7</td>\n",
       "      <td>7</td>\n",
       "    </tr>\n",
       "    <tr>\n",
       "      <th>561</th>\n",
       "      <td>9</td>\n",
       "      <td>110</td>\n",
       "      <td>90</td>\n",
       "      <td>3</td>\n",
       "      <td>0</td>\n",
       "      <td>7</td>\n",
       "    </tr>\n",
       "    <tr>\n",
       "      <th>927</th>\n",
       "      <td>2</td>\n",
       "      <td>130</td>\n",
       "      <td>110</td>\n",
       "      <td>5</td>\n",
       "      <td>5</td>\n",
       "      <td>7</td>\n",
       "    </tr>\n",
       "    <tr>\n",
       "      <th>640</th>\n",
       "      <td>31</td>\n",
       "      <td>127</td>\n",
       "      <td>105</td>\n",
       "      <td>5</td>\n",
       "      <td>2</td>\n",
       "      <td>0</td>\n",
       "    </tr>\n",
       "    <tr>\n",
       "      <th>...</th>\n",
       "      <td>...</td>\n",
       "      <td>...</td>\n",
       "      <td>...</td>\n",
       "      <td>...</td>\n",
       "      <td>...</td>\n",
       "      <td>...</td>\n",
       "    </tr>\n",
       "    <tr>\n",
       "      <th>237</th>\n",
       "      <td>3</td>\n",
       "      <td>120</td>\n",
       "      <td>100</td>\n",
       "      <td>3</td>\n",
       "      <td>5</td>\n",
       "      <td>0</td>\n",
       "    </tr>\n",
       "    <tr>\n",
       "      <th>1280</th>\n",
       "      <td>3</td>\n",
       "      <td>100</td>\n",
       "      <td>87</td>\n",
       "      <td>3</td>\n",
       "      <td>5</td>\n",
       "      <td>13</td>\n",
       "    </tr>\n",
       "    <tr>\n",
       "      <th>884</th>\n",
       "      <td>9</td>\n",
       "      <td>110</td>\n",
       "      <td>100</td>\n",
       "      <td>3</td>\n",
       "      <td>7</td>\n",
       "      <td>7</td>\n",
       "    </tr>\n",
       "    <tr>\n",
       "      <th>1086</th>\n",
       "      <td>9</td>\n",
       "      <td>110</td>\n",
       "      <td>100</td>\n",
       "      <td>3</td>\n",
       "      <td>7</td>\n",
       "      <td>7</td>\n",
       "    </tr>\n",
       "    <tr>\n",
       "      <th>452</th>\n",
       "      <td>9</td>\n",
       "      <td>120</td>\n",
       "      <td>105</td>\n",
       "      <td>3</td>\n",
       "      <td>0</td>\n",
       "      <td>0</td>\n",
       "    </tr>\n",
       "  </tbody>\n",
       "</table>\n",
       "<p>353 rows × 6 columns</p>\n",
       "</div>"
      ],
      "text/plain": [
       "      İlce  brüt metrekare  Net Metrekare  Oda Sayısı  Binanın Yaşı  \\\n",
       "160      9             105            100           1             0   \n",
       "1214     9             110            100           3             7   \n",
       "561      9             110             90           3             0   \n",
       "927      2             130            110           5             5   \n",
       "640     31             127            105           5             2   \n",
       "...    ...             ...            ...         ...           ...   \n",
       "237      3             120            100           3             5   \n",
       "1280     3             100             87           3             5   \n",
       "884      9             110            100           3             7   \n",
       "1086     9             110            100           3             7   \n",
       "452      9             120            105           3             0   \n",
       "\n",
       "      Bulunduğu Kat  \n",
       "160              16  \n",
       "1214              7  \n",
       "561               7  \n",
       "927               7  \n",
       "640               0  \n",
       "...             ...  \n",
       "237               0  \n",
       "1280             13  \n",
       "884               7  \n",
       "1086              7  \n",
       "452               0  \n",
       "\n",
       "[353 rows x 6 columns]"
      ]
     },
     "execution_count": 469,
     "metadata": {},
     "output_type": "execute_result"
    }
   ],
   "source": [
    "X_test"
   ]
  },
  {
   "cell_type": "code",
   "execution_count": 553,
   "id": "ead6f692",
   "metadata": {},
   "outputs": [
    {
     "data": {
      "text/plain": [
       "array([ 610043.7 , 1698855.8 ,  500402.8 ,  698847.2 , 1950077.5 ,\n",
       "        270051.12,  739204.75, 1575040.8 ,  449805.25,  614883.  ],\n",
       "      dtype=float32)"
      ]
     },
     "execution_count": 553,
     "metadata": {},
     "output_type": "execute_result"
    }
   ],
   "source": [
    "pre = model_xgb.predict(X_test)[10:100]\n",
    "tahmin =  model_xgb.predict(X_test)[90:100]\n",
    "tahmin"
   ]
  },
  {
   "cell_type": "code",
   "execution_count": 527,
   "id": "104d5266",
   "metadata": {},
   "outputs": [
    {
     "data": {
      "text/plain": [
       "[1575000,\n",
       " 525000,\n",
       " 495000,\n",
       " 1575000,\n",
       " 2750000,\n",
       " 739000,\n",
       " 1250000,\n",
       " 269999,\n",
       " 450000,\n",
       " 1434900]"
      ]
     },
     "execution_count": 527,
     "metadata": {},
     "output_type": "execute_result"
    }
   ],
   "source": [
    "gercek = y_test.tolist()\n",
    "songercek = gercek[10:100]\n",
    "gercek[10:20]\n",
    "\n"
   ]
  },
  {
   "cell_type": "code",
   "execution_count": 554,
   "id": "8acbb67d",
   "metadata": {},
   "outputs": [
    {
     "data": {
      "text/plain": [
       "652      610000\n",
       "570     1699000\n",
       "1006     499999\n",
       "1242     699000\n",
       "368     1950000\n",
       "315      269999\n",
       "1068     739000\n",
       "835     1575000\n",
       "1349     450000\n",
       "1370     615000\n",
       "Name: Fiyat, dtype: int64"
      ]
     },
     "execution_count": 554,
     "metadata": {},
     "output_type": "execute_result"
    }
   ],
   "source": [
    "y_test[90:100]\n"
   ]
  },
  {
   "cell_type": "code",
   "execution_count": 530,
   "id": "7a78a9a4",
   "metadata": {},
   "outputs": [
    {
     "name": "stdout",
     "output_type": "stream",
     "text": [
      "[1575040.75, 2161401.5, 495060.4375, 1575040.75, 2749695.5, 739204.75, 1250072.5, 270051.125, 449805.25, 1434668.0, 2416652.5, 889088.875, 739204.75, 1575040.75, 400471.28125, 2806910.5, 698847.1875, 889088.875, 1600065.0, 1303778.125, 739204.75, 1150790.125, 449805.25, 897717.1875, 529934.875, 2749695.5, 739262.5625, 2232330.25, 1250072.5, 1600065.0, 1600065.0, 1706393.125, 610043.6875, 2749695.5, 1249845.125, 1249845.125, 400471.28125, 659028.875, 799836.625, 659028.875, 561286.6875, 178043.796875, 747946.6875, 540115.0625, 2749695.5, 2749695.5, 389879.46875, 739262.5625, 529934.875, 2802024.75, 400471.28125, 739262.5625, 529934.875, 4442489.0, 2325159.5, 889088.875, 540115.0625, 449805.25, 1249845.125, 270051.125, 400471.28125, 614883.0, 1250072.5, 1698855.75, 529934.875, 614883.0, 1698855.75, 1072190.125, 739204.75, 1653032.625, 2325159.5, 1575040.75, 614883.0, 270051.125, 698847.1875, 2742576.75, 2749695.5, 529934.875, 449805.25, 2325159.5, 610043.6875, 1698855.75, 500402.8125, 698847.1875, 1950077.5, 270051.125, 739204.75, 1575040.75, 449805.25, 614883.0]\n"
     ]
    }
   ],
   "source": [
    "prelist = pre.tolist()\n",
    "print(prelist)"
   ]
  },
  {
   "cell_type": "code",
   "execution_count": 531,
   "id": "1f53da9a",
   "metadata": {},
   "outputs": [
    {
     "name": "stdout",
     "output_type": "stream",
     "text": [
      "[350000, 439000, 889000, 495000, 1250000, 340000, 1250000, 699000, 749900, 699000, 1575000, 525000, 495000, 1575000, 2750000, 739000, 1250000, 269999, 450000, 1434900, 1200000, 889000, 739000, 1575000, 439000, 4200000, 699000, 889000, 1600000, 3700000, 739000, 600000, 450000, 759000, 529900, 2750000, 739000, 650000, 1250000, 1600000, 1600000, 445000, 610000, 2750000, 1250000, 1250000, 439000, 659000, 800000, 659000, 1435000, 365000, 749900, 539999, 2750000, 2750000, 390000, 739000, 529900, 3950000, 439000, 739000, 529900, 1600000, 2325000, 889000, 539999, 450000, 1250000, 269999, 439000, 615000, 1250000, 1699000, 529900, 615000, 1699000, 800000, 739000, 1650000, 2325000, 1575000, 615000, 269999, 699000, 1940000, 2750000, 529900, 450000, 2325000, 610000, 1699000, 499999, 699000, 1950000, 269999, 739000, 1575000, 450000, 615000, 750000, 1699000, 390000, 739000, 800000, 200000000, 800000, 1434900, 439000, 2325000, 439000, 2750000, 615000, 739000, 659000, 610000, 1699000, 739000, 1000000, 1600000, 870000, 499999, 200000000, 889000, 495000, 800000, 539999, 650000, 1250000, 775000, 739000, 2325000, 615000, 450000, 1250000, 1250000, 495000, 529900, 439000, 870000, 739000, 450000, 870000, 450000, 2330000, 390000, 1575000, 870000, 778000, 1050000, 200000000, 539999, 269999, 2300000, 495000, 499999, 610000, 529900, 495000, 439000, 739000, 1950000, 2250000, 1150000, 749900, 539999, 2325000, 699000, 800000, 144000000, 450000, 2250000, 610000, 495000, 439000, 12000000, 2750000, 889000, 1250000, 740000, 247000, 889000, 11050000, 390000, 3400000, 870000, 499999, 550000, 439000, 499999, 889000, 4250000, 615000, 1600000, 439000, 2750000, 1575000, 200000000, 499999, 1000000, 450000, 800000, 2325000, 1600000, 200000000, 610000, 1200000, 539999, 390000, 800000, 1600000, 450000, 1434900, 450000, 2325000, 340000, 1250000, 326000, 450000, 3500000, 870000, 539999, 800000, 495000, 739000, 1800000, 670000, 699000, 615000, 1300000, 390000, 3150000, 8500000, 1434900, 1250000, 1434900, 659000, 1250000, 350000, 1800000, 2750000, 2750000, 595000, 870000, 2325000, 450000, 800000, 1200000, 1000000, 1080000, 1600000, 539999, 675000, 1575000, 499999, 3985000, 1950000, 439000, 889000, 659000, 2325000, 529900, 390000, 450000, 495000, 200000000, 739000, 739000, 3650000, 439000, 749900, 1650000, 749900, 269999, 889000, 739000, 439000, 390000, 870000, 200000000, 615000, 699000, 22000000, 739000, 920000, 610000, 739000, 499999, 1250000, 2750000, 800000, 439000, 889000, 2325000, 439000, 499999, 17500000, 615000, 749900, 699000, 539999, 739000, 870000, 749900, 439000, 749900, 499999, 529900, 1434900, 615000, 499999, 1900000, 870000, 800000, 659000, 1575000, 2750000, 200000000, 8250000, 870000, 1250000, 835000, 495000, 200000000, 450000, 615000, 269999, 800000, 889000, 450000, 340000, 1990000, 659000, 499999, 1250000, 800000, 615000, 659000, 1250000, 439000, 610000, 1575000, 390000, 2325000, 499999, 200000000, 975000, 739000, 785000, 615000, 439000, 439000, 529900]\n"
     ]
    }
   ],
   "source": [
    "print(gercek)"
   ]
  },
  {
   "cell_type": "code",
   "execution_count": 532,
   "id": "9a533c57",
   "metadata": {},
   "outputs": [
    {
     "name": "stdout",
     "output_type": "stream",
     "text": [
      "90 90\n"
     ]
    }
   ],
   "source": [
    "print(len(songercek),len(prelist))"
   ]
  },
  {
   "cell_type": "code",
   "execution_count": 533,
   "id": "48a26e88",
   "metadata": {},
   "outputs": [
    {
     "data": {
      "text/plain": [
       "[<matplotlib.lines.Line2D at 0x21db96b9930>]"
      ]
     },
     "execution_count": 533,
     "metadata": {},
     "output_type": "execute_result"
    },
    {
     "data": {
      "image/png": "[encoded data removed]",
      "text/plain": [
       "<Figure size 432x288 with 1 Axes>"
      ]
     },
     "metadata": {
      "needs_background": "light"
     },
     "output_type": "display_data"
    }
   ],
   "source": [
    "import matplotlib.pyplot as plt\n",
    "\n",
    "plt.figure()\n",
    "plt.plot(pre , 'b')\n",
    "plt.plot(songercek , 'r')"
   ]
  },
  {
   "cell_type": "code",
   "execution_count": 510,
   "id": "f24fe3e0",
   "metadata": {},
   "outputs": [
    {
     "name": "stderr",
     "output_type": "stream",
     "text": [
      "C:\\Users\\sonay\\AppData\\Local\\Programs\\Python\\Python310\\lib\\site-packages\\xgboost\\data.py:262: FutureWarning: pandas.Int64Index is deprecated and will be removed from pandas in a future version. Use pandas.Index with the appropriate dtype instead.\n",
      "  elif isinstance(data.columns, (pd.Int64Index, pd.RangeIndex)):\n"
     ]
    },
    {
     "data": {
      "text/plain": [
       "0.9503276553328971"
      ]
     },
     "execution_count": 510,
     "metadata": {},
     "output_type": "execute_result"
    }
   ],
   "source": [
    "model_xgb.score(X_test, y_test)"
   ]
  },
  {
   "cell_type": "code",
   "execution_count": 511,
   "id": "ecd041d7",
   "metadata": {},
   "outputs": [
    {
     "name": "stdout",
     "output_type": "stream",
     "text": [
      "Test Seti Doğruluğu : 95.03%\n"
     ]
    },
    {
     "name": "stderr",
     "output_type": "stream",
     "text": [
      "C:\\Users\\sonay\\AppData\\Local\\Programs\\Python\\Python310\\lib\\site-packages\\xgboost\\data.py:262: FutureWarning: pandas.Int64Index is deprecated and will be removed from pandas in a future version. Use pandas.Index with the appropriate dtype instead.\n",
      "  elif isinstance(data.columns, (pd.Int64Index, pd.RangeIndex)):\n"
     ]
    }
   ],
   "source": [
    "print('Test Seti Doğruluğu : {}%'.format(round(model_xgb.score(X_test, y_test)*100,2)))"
   ]
  },
  {
   "cell_type": "code",
   "execution_count": 512,
   "id": "f879fc45",
   "metadata": {},
   "outputs": [
    {
     "name": "stderr",
     "output_type": "stream",
     "text": [
      "C:\\Users\\sonay\\AppData\\Local\\Programs\\Python\\Python310\\lib\\site-packages\\xgboost\\data.py:262: FutureWarning: pandas.Int64Index is deprecated and will be removed from pandas in a future version. Use pandas.Index with the appropriate dtype instead.\n",
      "  elif isinstance(data.columns, (pd.Int64Index, pd.RangeIndex)):\n",
      "C:\\Users\\sonay\\AppData\\Local\\Programs\\Python\\Python310\\lib\\site-packages\\xgboost\\data.py:262: FutureWarning: pandas.Int64Index is deprecated and will be removed from pandas in a future version. Use pandas.Index with the appropriate dtype instead.\n",
      "  elif isinstance(data.columns, (pd.Int64Index, pd.RangeIndex)):\n",
      "C:\\Users\\sonay\\AppData\\Local\\Programs\\Python\\Python310\\lib\\site-packages\\xgboost\\data.py:262: FutureWarning: pandas.Int64Index is deprecated and will be removed from pandas in a future version. Use pandas.Index with the appropriate dtype instead.\n",
      "  elif isinstance(data.columns, (pd.Int64Index, pd.RangeIndex)):\n",
      "C:\\Users\\sonay\\AppData\\Local\\Programs\\Python\\Python310\\lib\\site-packages\\xgboost\\data.py:262: FutureWarning: pandas.Int64Index is deprecated and will be removed from pandas in a future version. Use pandas.Index with the appropriate dtype instead.\n",
      "  elif isinstance(data.columns, (pd.Int64Index, pd.RangeIndex)):\n",
      "C:\\Users\\sonay\\AppData\\Local\\Programs\\Python\\Python310\\lib\\site-packages\\xgboost\\data.py:262: FutureWarning: pandas.Int64Index is deprecated and will be removed from pandas in a future version. Use pandas.Index with the appropriate dtype instead.\n",
      "  elif isinstance(data.columns, (pd.Int64Index, pd.RangeIndex)):\n",
      "C:\\Users\\sonay\\AppData\\Local\\Programs\\Python\\Python310\\lib\\site-packages\\xgboost\\data.py:262: FutureWarning: pandas.Int64Index is deprecated and will be removed from pandas in a future version. Use pandas.Index with the appropriate dtype instead.\n",
      "  elif isinstance(data.columns, (pd.Int64Index, pd.RangeIndex)):\n",
      "C:\\Users\\sonay\\AppData\\Local\\Programs\\Python\\Python310\\lib\\site-packages\\xgboost\\data.py:262: FutureWarning: pandas.Int64Index is deprecated and will be removed from pandas in a future version. Use pandas.Index with the appropriate dtype instead.\n",
      "  elif isinstance(data.columns, (pd.Int64Index, pd.RangeIndex)):\n",
      "C:\\Users\\sonay\\AppData\\Local\\Programs\\Python\\Python310\\lib\\site-packages\\xgboost\\data.py:262: FutureWarning: pandas.Int64Index is deprecated and will be removed from pandas in a future version. Use pandas.Index with the appropriate dtype instead.\n",
      "  elif isinstance(data.columns, (pd.Int64Index, pd.RangeIndex)):\n",
      "C:\\Users\\sonay\\AppData\\Local\\Programs\\Python\\Python310\\lib\\site-packages\\xgboost\\data.py:262: FutureWarning: pandas.Int64Index is deprecated and will be removed from pandas in a future version. Use pandas.Index with the appropriate dtype instead.\n",
      "  elif isinstance(data.columns, (pd.Int64Index, pd.RangeIndex)):\n",
      "C:\\Users\\sonay\\AppData\\Local\\Programs\\Python\\Python310\\lib\\site-packages\\xgboost\\data.py:262: FutureWarning: pandas.Int64Index is deprecated and will be removed from pandas in a future version. Use pandas.Index with the appropriate dtype instead.\n",
      "  elif isinstance(data.columns, (pd.Int64Index, pd.RangeIndex)):\n"
     ]
    },
    {
     "data": {
      "text/plain": [
       "3853521.894155795"
      ]
     },
     "execution_count": 512,
     "metadata": {},
     "output_type": "execute_result"
    }
   ],
   "source": [
    "np.sqrt(-1*(cross_val_score(model_xgb, X_test, y_test, cv=10, scoring='neg_mean_squared_error'))).mean()\n"
   ]
  },
  {
   "cell_type": "code",
   "execution_count": 513,
   "id": "76555558",
   "metadata": {},
   "outputs": [],
   "source": [
    "importance = pd.DataFrame({\"Importance\": model_xgb.feature_importances_},\n",
    "                         index=X_train.columns)"
   ]
  },
  {
   "cell_type": "code",
   "execution_count": 514,
   "id": "8972a939",
   "metadata": {},
   "outputs": [
    {
     "data": {
      "text/html": [
       "<div>\n",
       "<style scoped>\n",
       "    .dataframe tbody tr th:only-of-type {\n",
       "        vertical-align: middle;\n",
       "    }\n",
       "\n",
       "    .dataframe tbody tr th {\n",
       "        vertical-align: top;\n",
       "    }\n",
       "\n",
       "    .dataframe thead th {\n",
       "        text-align: right;\n",
       "    }\n",
       "</style>\n",
       "<table border=\"1\" class=\"dataframe\">\n",
       "  <thead>\n",
       "    <tr style=\"text-align: right;\">\n",
       "      <th></th>\n",
       "      <th>Importance</th>\n",
       "    </tr>\n",
       "  </thead>\n",
       "  <tbody>\n",
       "    <tr>\n",
       "      <th>İlce</th>\n",
       "      <td>0.062191</td>\n",
       "    </tr>\n",
       "    <tr>\n",
       "      <th>brüt metrekare</th>\n",
       "      <td>0.277086</td>\n",
       "    </tr>\n",
       "    <tr>\n",
       "      <th>Net Metrekare</th>\n",
       "      <td>0.205057</td>\n",
       "    </tr>\n",
       "    <tr>\n",
       "      <th>Oda Sayısı</th>\n",
       "      <td>0.336730</td>\n",
       "    </tr>\n",
       "    <tr>\n",
       "      <th>Binanın Yaşı</th>\n",
       "      <td>0.041104</td>\n",
       "    </tr>\n",
       "    <tr>\n",
       "      <th>Bulunduğu Kat</th>\n",
       "      <td>0.077831</td>\n",
       "    </tr>\n",
       "  </tbody>\n",
       "</table>\n",
       "</div>"
      ],
      "text/plain": [
       "                Importance\n",
       "İlce              0.062191\n",
       "brüt metrekare    0.277086\n",
       "Net Metrekare     0.205057\n",
       "Oda Sayısı        0.336730\n",
       "Binanın Yaşı      0.041104\n",
       "Bulunduğu Kat     0.077831"
      ]
     },
     "execution_count": 514,
     "metadata": {},
     "output_type": "execute_result"
    }
   ],
   "source": [
    "importance"
   ]
  },
  {
   "cell_type": "code",
   "execution_count": null,
   "id": "81a43e89",
   "metadata": {},
   "outputs": [],
   "source": []
  },
  {
   "cell_type": "code",
   "execution_count": null,
   "id": "d1caf356",
   "metadata": {},
   "outputs": [],
   "source": [
    "\n"
   ]
  },
  {
   "cell_type": "code",
   "execution_count": null,
   "id": "a9b98937",
   "metadata": {},
   "outputs": [],
   "source": []
  }
 ],
 "metadata": {
  "kernelspec": {
   "display_name": "Python 3 (ipykernel)",
   "language": "python",
   "name": "python3"
  },
  "language_info": {
   "codemirror_mode": {
    "name": "ipython",
    "version": 3
   },
   "file_extension": ".py",
   "mimetype": "text/x-python",
   "name": "python",
   "nbconvert_exporter": "python",
   "pygments_lexer": "ipython3",
   "version": "3.10.4"
  }
 },
 "nbformat": 4,
 "nbformat_minor": 5
}
