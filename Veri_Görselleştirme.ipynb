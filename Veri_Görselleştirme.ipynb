{
 "cells": [
  {
   "cell_type": "code",
   "execution_count": 72,
   "id": "2cd066f1",
   "metadata": {
    "scrolled": true
   },
   "outputs": [],
   "source": [
    "import numpy as np\n",
    "import pandas as pd\n",
    "import seaborn as sns\n",
    "import matplotlib.pyplot as plt\n",
    "\n",
    "pd.set_option(\"display.max_column\", None)\n",
    "pd.set_option(\"display.max_row\", None)\n",
    "\n",
    "df = pd.read_csv(\"emlak_verisi_newd.csv\")"
   ]
  },
  {
   "cell_type": "code",
   "execution_count": 75,
   "id": "68301f58",
   "metadata": {},
   "outputs": [
    {
     "data": {
      "text/html": [
       "<div>\n",
       "<style scoped>\n",
       "    .dataframe tbody tr th:only-of-type {\n",
       "        vertical-align: middle;\n",
       "    }\n",
       "\n",
       "    .dataframe tbody tr th {\n",
       "        vertical-align: top;\n",
       "    }\n",
       "\n",
       "    .dataframe thead th {\n",
       "        text-align: right;\n",
       "    }\n",
       "</style>\n",
       "<table border=\"1\" class=\"dataframe\">\n",
       "  <thead>\n",
       "    <tr style=\"text-align: right;\">\n",
       "      <th></th>\n",
       "      <th>Unnamed: 0</th>\n",
       "      <th>Sehir</th>\n",
       "      <th>İlce</th>\n",
       "      <th>Mahalle</th>\n",
       "      <th>Fiyat</th>\n",
       "      <th>brüt metrekare</th>\n",
       "      <th>Net Metrekare</th>\n",
       "      <th>Oda Sayısı</th>\n",
       "      <th>Binanın Yaşı</th>\n",
       "      <th>Bulunduğu Kat</th>\n",
       "    </tr>\n",
       "  </thead>\n",
       "  <tbody>\n",
       "    <tr>\n",
       "      <th>0</th>\n",
       "      <td>0</td>\n",
       "      <td>İstanbul</td>\n",
       "      <td>Kartal</td>\n",
       "      <td>Cumhuriyet Mahallesi</td>\n",
       "      <td>1890000</td>\n",
       "      <td>107</td>\n",
       "      <td>70</td>\n",
       "      <td>2+1</td>\n",
       "      <td>5-10</td>\n",
       "      <td>20</td>\n",
       "    </tr>\n",
       "    <tr>\n",
       "      <th>1</th>\n",
       "      <td>1</td>\n",
       "      <td>İstanbul</td>\n",
       "      <td>Kartal</td>\n",
       "      <td>Çavuşoğlu Mahallesi</td>\n",
       "      <td>1310000</td>\n",
       "      <td>120</td>\n",
       "      <td>105</td>\n",
       "      <td>3+1</td>\n",
       "      <td>0 (Yeni)</td>\n",
       "      <td>Bahçe Katı</td>\n",
       "    </tr>\n",
       "    <tr>\n",
       "      <th>2</th>\n",
       "      <td>2</td>\n",
       "      <td>İstanbul</td>\n",
       "      <td>Başakşehir</td>\n",
       "      <td>Kayabaşı Mahallesi</td>\n",
       "      <td>900000</td>\n",
       "      <td>75</td>\n",
       "      <td>68</td>\n",
       "      <td>2+1</td>\n",
       "      <td>5-10</td>\n",
       "      <td>5</td>\n",
       "    </tr>\n",
       "    <tr>\n",
       "      <th>3</th>\n",
       "      <td>3</td>\n",
       "      <td>İstanbul</td>\n",
       "      <td>Beylikdüzü</td>\n",
       "      <td>Adnan Kahveci Mahallesi</td>\n",
       "      <td>1575000</td>\n",
       "      <td>200</td>\n",
       "      <td>185</td>\n",
       "      <td>3+1</td>\n",
       "      <td>11-15</td>\n",
       "      <td>5</td>\n",
       "    </tr>\n",
       "    <tr>\n",
       "      <th>4</th>\n",
       "      <td>4</td>\n",
       "      <td>İstanbul</td>\n",
       "      <td>Eyüpsultan</td>\n",
       "      <td>Nişancı Mahallesi</td>\n",
       "      <td>775000</td>\n",
       "      <td>100</td>\n",
       "      <td>90</td>\n",
       "      <td>2+1</td>\n",
       "      <td>21 Ve Üzeri</td>\n",
       "      <td>4</td>\n",
       "    </tr>\n",
       "  </tbody>\n",
       "</table>\n",
       "</div>"
      ],
      "text/plain": [
       "   Unnamed: 0     Sehir        İlce                  Mahalle    Fiyat  \\\n",
       "0           0  İstanbul      Kartal     Cumhuriyet Mahallesi  1890000   \n",
       "1           1  İstanbul      Kartal      Çavuşoğlu Mahallesi  1310000   \n",
       "2           2  İstanbul  Başakşehir       Kayabaşı Mahallesi   900000   \n",
       "3           3  İstanbul  Beylikdüzü  Adnan Kahveci Mahallesi  1575000   \n",
       "4           4  İstanbul  Eyüpsultan        Nişancı Mahallesi   775000   \n",
       "\n",
       "   brüt metrekare  Net Metrekare Oda Sayısı Binanın Yaşı Bulunduğu Kat  \n",
       "0             107             70        2+1         5-10            20  \n",
       "1             120            105        3+1     0 (Yeni)    Bahçe Katı  \n",
       "2              75             68        2+1         5-10             5  \n",
       "3             200            185        3+1        11-15             5  \n",
       "4             100             90        2+1  21 Ve Üzeri             4  "
      ]
     },
     "execution_count": 75,
     "metadata": {},
     "output_type": "execute_result"
    }
   ],
   "source": [
    "df.head()"
   ]
  },
  {
   "cell_type": "code",
   "execution_count": 74,
   "id": "ca80ed8d",
   "metadata": {},
   "outputs": [
    {
     "data": {
      "text/html": [
       "<div>\n",
       "<style scoped>\n",
       "    .dataframe tbody tr th:only-of-type {\n",
       "        vertical-align: middle;\n",
       "    }\n",
       "\n",
       "    .dataframe tbody tr th {\n",
       "        vertical-align: top;\n",
       "    }\n",
       "\n",
       "    .dataframe thead th {\n",
       "        text-align: right;\n",
       "    }\n",
       "</style>\n",
       "<table border=\"1\" class=\"dataframe\">\n",
       "  <thead>\n",
       "    <tr style=\"text-align: right;\">\n",
       "      <th></th>\n",
       "      <th>count</th>\n",
       "      <th>mean</th>\n",
       "      <th>std</th>\n",
       "      <th>min</th>\n",
       "      <th>25%</th>\n",
       "      <th>50%</th>\n",
       "      <th>75%</th>\n",
       "      <th>max</th>\n",
       "    </tr>\n",
       "  </thead>\n",
       "  <tbody>\n",
       "    <tr>\n",
       "      <th>Unnamed: 0</th>\n",
       "      <td>1410.0</td>\n",
       "      <td>7.045000e+02</td>\n",
       "      <td>4.071763e+02</td>\n",
       "      <td>0.0</td>\n",
       "      <td>352.25</td>\n",
       "      <td>704.5</td>\n",
       "      <td>1056.75</td>\n",
       "      <td>1409.0</td>\n",
       "    </tr>\n",
       "    <tr>\n",
       "      <th>Fiyat</th>\n",
       "      <td>1410.0</td>\n",
       "      <td>7.238068e+06</td>\n",
       "      <td>3.816475e+07</td>\n",
       "      <td>247000.0</td>\n",
       "      <td>529900.00</td>\n",
       "      <td>749900.0</td>\n",
       "      <td>1575000.00</td>\n",
       "      <td>761000000.0</td>\n",
       "    </tr>\n",
       "    <tr>\n",
       "      <th>brüt metrekare</th>\n",
       "      <td>1410.0</td>\n",
       "      <td>1.779504e+02</td>\n",
       "      <td>2.296416e+02</td>\n",
       "      <td>50.0</td>\n",
       "      <td>110.00</td>\n",
       "      <td>127.0</td>\n",
       "      <td>155.00</td>\n",
       "      <td>1500.0</td>\n",
       "    </tr>\n",
       "    <tr>\n",
       "      <th>Net Metrekare</th>\n",
       "      <td>1410.0</td>\n",
       "      <td>1.508809e+02</td>\n",
       "      <td>1.686609e+02</td>\n",
       "      <td>42.0</td>\n",
       "      <td>100.00</td>\n",
       "      <td>110.0</td>\n",
       "      <td>136.00</td>\n",
       "      <td>1100.0</td>\n",
       "    </tr>\n",
       "  </tbody>\n",
       "</table>\n",
       "</div>"
      ],
      "text/plain": [
       "                 count          mean           std       min        25%  \\\n",
       "Unnamed: 0      1410.0  7.045000e+02  4.071763e+02       0.0     352.25   \n",
       "Fiyat           1410.0  7.238068e+06  3.816475e+07  247000.0  529900.00   \n",
       "brüt metrekare  1410.0  1.779504e+02  2.296416e+02      50.0     110.00   \n",
       "Net Metrekare   1410.0  1.508809e+02  1.686609e+02      42.0     100.00   \n",
       "\n",
       "                     50%         75%          max  \n",
       "Unnamed: 0         704.5     1056.75       1409.0  \n",
       "Fiyat           749900.0  1575000.00  761000000.0  \n",
       "brüt metrekare     127.0      155.00       1500.0  \n",
       "Net Metrekare      110.0      136.00       1100.0  "
      ]
     },
     "execution_count": 74,
     "metadata": {},
     "output_type": "execute_result"
    }
   ],
   "source": [
    "df.describe().T"
   ]
  },
  {
   "cell_type": "code",
   "execution_count": 8,
   "id": "ebdc0949",
   "metadata": {},
   "outputs": [
    {
     "ename": "AttributeError",
     "evalue": "'numpy.int64' object has no attribute 'split'",
     "output_type": "error",
     "traceback": [
      "\u001b[1;31m---------------------------------------------------------------------------\u001b[0m",
      "\u001b[1;31mAttributeError\u001b[0m                            Traceback (most recent call last)",
      "Input \u001b[1;32mIn [8]\u001b[0m, in \u001b[0;36m<cell line: 3>\u001b[1;34m()\u001b[0m\n\u001b[0;32m      1\u001b[0m \u001b[38;5;66;03m## BRÜT METREKARE \u001b[39;00m\n\u001b[0;32m      3\u001b[0m \u001b[38;5;28;01mfor\u001b[39;00m i \u001b[38;5;129;01min\u001b[39;00m \u001b[38;5;28mrange\u001b[39m(\u001b[38;5;28mlen\u001b[39m(df[\u001b[38;5;124m'\u001b[39m\u001b[38;5;124mbrüt metrekare\u001b[39m\u001b[38;5;124m'\u001b[39m])):\n\u001b[1;32m----> 5\u001b[0m         x \u001b[38;5;241m=\u001b[39m \u001b[43mdf\u001b[49m\u001b[43m[\u001b[49m\u001b[38;5;124;43m'\u001b[39;49m\u001b[38;5;124;43mbrüt metrekare\u001b[39;49m\u001b[38;5;124;43m'\u001b[39;49m\u001b[43m]\u001b[49m\u001b[43m[\u001b[49m\u001b[43mi\u001b[49m\u001b[43m]\u001b[49m\u001b[38;5;241;43m.\u001b[39;49m\u001b[43msplit\u001b[49m(\u001b[38;5;124m\"\u001b[39m\u001b[38;5;124m M2\u001b[39m\u001b[38;5;124m\"\u001b[39m)\n\u001b[0;32m      6\u001b[0m         df[\u001b[38;5;124m'\u001b[39m\u001b[38;5;124mbrüt metrekare\u001b[39m\u001b[38;5;124m'\u001b[39m][i] \u001b[38;5;241m=\u001b[39m x[\u001b[38;5;241m0\u001b[39m]\n\u001b[0;32m      8\u001b[0m \u001b[38;5;28;01mfor\u001b[39;00m t \u001b[38;5;129;01min\u001b[39;00m \u001b[38;5;28mrange\u001b[39m(\u001b[38;5;28mlen\u001b[39m(df[\u001b[38;5;124m'\u001b[39m\u001b[38;5;124mbrüt metrekare\u001b[39m\u001b[38;5;124m'\u001b[39m])):\n",
      "\u001b[1;31mAttributeError\u001b[0m: 'numpy.int64' object has no attribute 'split'"
     ]
    }
   ],
   "source": [
    "## BRÜT METREKARE \n",
    "\n",
    "for i in range(len(df['brüt metrekare'])):\n",
    "     \n",
    "        x = df['brüt metrekare'][i].split(\" M2\")\n",
    "        df['brüt metrekare'][i] = x[0]\n",
    "\n",
    "for t in range(len(df['brüt metrekare'])):\n",
    "    \n",
    "    if(len(df['brüt metrekare'][t]) > 3):\n",
    "        \n",
    "        x = df['brüt metrekare'][t].split(\".\")\n",
    "        a = x[0]\n",
    "        b = x[1]\n",
    "        df['brüt metrekare'][t] = a + b"
   ]
  },
  {
   "cell_type": "code",
   "execution_count": 9,
   "id": "0dac5639",
   "metadata": {},
   "outputs": [
    {
     "ename": "AttributeError",
     "evalue": "'numpy.int64' object has no attribute 'isnumeric'",
     "output_type": "error",
     "traceback": [
      "\u001b[1;31m---------------------------------------------------------------------------\u001b[0m",
      "\u001b[1;31mAttributeError\u001b[0m                            Traceback (most recent call last)",
      "Input \u001b[1;32mIn [9]\u001b[0m, in \u001b[0;36m<cell line: 3>\u001b[1;34m()\u001b[0m\n\u001b[0;32m      1\u001b[0m \u001b[38;5;66;03m## FİYAT\u001b[39;00m\n\u001b[0;32m      3\u001b[0m \u001b[38;5;28;01mfor\u001b[39;00m i \u001b[38;5;129;01min\u001b[39;00m \u001b[38;5;28mrange\u001b[39m(\u001b[38;5;28mlen\u001b[39m(df\u001b[38;5;241m.\u001b[39mFiyat)):\n\u001b[1;32m----> 5\u001b[0m     \u001b[38;5;28;01mif\u001b[39;00m  \u001b[43mdf\u001b[49m\u001b[43m[\u001b[49m\u001b[38;5;124;43m'\u001b[39;49m\u001b[38;5;124;43mFiyat\u001b[39;49m\u001b[38;5;124;43m'\u001b[39;49m\u001b[43m]\u001b[49m\u001b[43m[\u001b[49m\u001b[43mi\u001b[49m\u001b[43m]\u001b[49m\u001b[38;5;241;43m.\u001b[39;49m\u001b[43misnumeric\u001b[49m() \u001b[38;5;241m==\u001b[39m \u001b[38;5;28;01mFalse\u001b[39;00m:\n\u001b[0;32m      7\u001b[0m         x \u001b[38;5;241m=\u001b[39m df[\u001b[38;5;124m'\u001b[39m\u001b[38;5;124mFiyat\u001b[39m\u001b[38;5;124m'\u001b[39m][i]\u001b[38;5;241m.\u001b[39msplit(\u001b[38;5;124m\"\u001b[39m\u001b[38;5;124mTLarrow_downward\u001b[39m\u001b[38;5;124m\"\u001b[39m)\n\u001b[0;32m      8\u001b[0m         df[\u001b[38;5;124m'\u001b[39m\u001b[38;5;124mFiyat\u001b[39m\u001b[38;5;124m'\u001b[39m][i]\u001b[38;5;241m=\u001b[39mx[\u001b[38;5;241m0\u001b[39m]\n",
      "\u001b[1;31mAttributeError\u001b[0m: 'numpy.int64' object has no attribute 'isnumeric'"
     ]
    }
   ],
   "source": [
    "## FİYAT\n",
    "\n",
    "for i in range(len(df.Fiyat)):\n",
    "    \n",
    "    if  df['Fiyat'][i].isnumeric() == False:\n",
    "        \n",
    "        x = df['Fiyat'][i].split(\"TLarrow_downward\")\n",
    "        df['Fiyat'][i]=x[0]\n",
    "        \n",
    "df.astype({'Fiyat': 'int64'}).dtypes"
   ]
  },
  {
   "cell_type": "code",
   "execution_count": 10,
   "id": "e5bdedfd",
   "metadata": {},
   "outputs": [
    {
     "ename": "AttributeError",
     "evalue": "'numpy.int64' object has no attribute 'split'",
     "output_type": "error",
     "traceback": [
      "\u001b[1;31m---------------------------------------------------------------------------\u001b[0m",
      "\u001b[1;31mAttributeError\u001b[0m                            Traceback (most recent call last)",
      "Input \u001b[1;32mIn [10]\u001b[0m, in \u001b[0;36m<cell line: 3>\u001b[1;34m()\u001b[0m\n\u001b[0;32m      1\u001b[0m \u001b[38;5;66;03m## NET METREKARE\u001b[39;00m\n\u001b[0;32m      3\u001b[0m \u001b[38;5;28;01mfor\u001b[39;00m i \u001b[38;5;129;01min\u001b[39;00m \u001b[38;5;28mrange\u001b[39m(\u001b[38;5;28mlen\u001b[39m(df[\u001b[38;5;124m'\u001b[39m\u001b[38;5;124mNet Metrekare\u001b[39m\u001b[38;5;124m'\u001b[39m])):\n\u001b[1;32m----> 5\u001b[0m     x \u001b[38;5;241m=\u001b[39m \u001b[43mdf\u001b[49m\u001b[43m[\u001b[49m\u001b[38;5;124;43m'\u001b[39;49m\u001b[38;5;124;43mNet Metrekare\u001b[39;49m\u001b[38;5;124;43m'\u001b[39;49m\u001b[43m]\u001b[49m\u001b[43m[\u001b[49m\u001b[43mi\u001b[49m\u001b[43m]\u001b[49m\u001b[38;5;241;43m.\u001b[39;49m\u001b[43msplit\u001b[49m(\u001b[38;5;124m\"\u001b[39m\u001b[38;5;124m M2\u001b[39m\u001b[38;5;124m\"\u001b[39m)\n\u001b[0;32m      6\u001b[0m     df[\u001b[38;5;124m'\u001b[39m\u001b[38;5;124mNet Metrekare\u001b[39m\u001b[38;5;124m'\u001b[39m][i] \u001b[38;5;241m=\u001b[39m x[\u001b[38;5;241m0\u001b[39m]\n",
      "\u001b[1;31mAttributeError\u001b[0m: 'numpy.int64' object has no attribute 'split'"
     ]
    }
   ],
   "source": [
    "## NET METREKARE\n",
    "\n",
    "for i in range(len(df['Net Metrekare'])):\n",
    "     \n",
    "    x = df['Net Metrekare'][i].split(\" M2\")\n",
    "    df['Net Metrekare'][i] = x[0]"
   ]
  },
  {
   "cell_type": "code",
   "execution_count": 11,
   "id": "ab72cf9d",
   "metadata": {},
   "outputs": [
    {
     "ename": "TypeError",
     "evalue": "object of type 'numpy.int64' has no len()",
     "output_type": "error",
     "traceback": [
      "\u001b[1;31m---------------------------------------------------------------------------\u001b[0m",
      "\u001b[1;31mTypeError\u001b[0m                                 Traceback (most recent call last)",
      "Input \u001b[1;32mIn [11]\u001b[0m, in \u001b[0;36m<cell line: 3>\u001b[1;34m()\u001b[0m\n\u001b[0;32m      1\u001b[0m \u001b[38;5;66;03m## NET METREKARE\u001b[39;00m\n\u001b[0;32m      3\u001b[0m \u001b[38;5;28;01mfor\u001b[39;00m i \u001b[38;5;129;01min\u001b[39;00m \u001b[38;5;28mrange\u001b[39m(\u001b[38;5;28mlen\u001b[39m(df[\u001b[38;5;124m'\u001b[39m\u001b[38;5;124mNet Metrekare\u001b[39m\u001b[38;5;124m'\u001b[39m])): \n\u001b[1;32m----> 5\u001b[0m     \u001b[38;5;28;01mif\u001b[39;00m(\u001b[38;5;28;43mlen\u001b[39;49m\u001b[43m(\u001b[49m\u001b[43mdf\u001b[49m\u001b[43m[\u001b[49m\u001b[38;5;124;43m'\u001b[39;49m\u001b[38;5;124;43mNet Metrekare\u001b[39;49m\u001b[38;5;124;43m'\u001b[39;49m\u001b[43m]\u001b[49m\u001b[43m[\u001b[49m\u001b[43mi\u001b[49m\u001b[43m]\u001b[49m\u001b[43m)\u001b[49m \u001b[38;5;241m>\u001b[39m \u001b[38;5;241m3\u001b[39m):\n\u001b[0;32m      7\u001b[0m         x \u001b[38;5;241m=\u001b[39m df[\u001b[38;5;124m'\u001b[39m\u001b[38;5;124mNet Metrekare\u001b[39m\u001b[38;5;124m'\u001b[39m][i]\u001b[38;5;241m.\u001b[39msplit(\u001b[38;5;124m\"\u001b[39m\u001b[38;5;124m.\u001b[39m\u001b[38;5;124m\"\u001b[39m)\n\u001b[0;32m      8\u001b[0m         a \u001b[38;5;241m=\u001b[39m x[\u001b[38;5;241m0\u001b[39m]\n",
      "\u001b[1;31mTypeError\u001b[0m: object of type 'numpy.int64' has no len()"
     ]
    }
   ],
   "source": [
    "## NET METREKARE\n",
    "\n",
    "for i in range(len(df['Net Metrekare'])): \n",
    "    \n",
    "    if(len(df['Net Metrekare'][i]) > 3):\n",
    "        \n",
    "        x = df['Net Metrekare'][i].split(\".\")\n",
    "        a = x[0]\n",
    "        b = x[1]\n",
    "        df['Net Metrekare'][i] = a + b"
   ]
  },
  {
   "cell_type": "code",
   "execution_count": 12,
   "id": "1c4e0290",
   "metadata": {},
   "outputs": [],
   "source": [
    "## NET METREKARE\n",
    "\n",
    "liste = []\n",
    "\n",
    "for i in range(len(df['Net Metrekare'])):\n",
    "    if(df['Net Metrekare'][i] == '-'):\n",
    "        \n",
    "        liste.append(i)\n",
    "    \n",
    "    sayac = 0\n",
    "    \n",
    "for j in range(len(liste)):\n",
    "\n",
    "    df = df.drop(df.index[liste[j] - sayac])\n",
    "    sayac += 1\n",
    "    df = df.reset_index(drop = True)"
   ]
  },
  {
   "cell_type": "code",
   "execution_count": 13,
   "id": "e402dfb0",
   "metadata": {},
   "outputs": [
    {
     "name": "stdout",
     "output_type": "stream",
     "text": [
      "<class 'pandas.core.frame.DataFrame'>\n",
      "RangeIndex: 1410 entries, 0 to 1409\n",
      "Data columns (total 10 columns):\n",
      " #   Column          Non-Null Count  Dtype \n",
      "---  ------          --------------  ----- \n",
      " 0   Unnamed: 0      1410 non-null   int64 \n",
      " 1   Sehir           1410 non-null   object\n",
      " 2   İlce            1410 non-null   object\n",
      " 3   Mahalle         1410 non-null   object\n",
      " 4   Fiyat           1410 non-null   int64 \n",
      " 5   brüt metrekare  1410 non-null   int64 \n",
      " 6   Net Metrekare   1410 non-null   int64 \n",
      " 7   Oda Sayısı      1410 non-null   object\n",
      " 8   Binanın Yaşı    1410 non-null   object\n",
      " 9   Bulunduğu Kat   1410 non-null   object\n",
      "dtypes: int64(4), object(6)\n",
      "memory usage: 110.3+ KB\n"
     ]
    }
   ],
   "source": [
    "df = df.astype({\"Fiyat\": 'int64',\"brüt metrekare\": 'int64', \"Net Metrekare\": 'int64'})\n",
    "##df.Fiyat = df.Fiyat.astype('int64')\n",
    "df.info()"
   ]
  },
  {
   "cell_type": "code",
   "execution_count": 14,
   "id": "3210b030",
   "metadata": {},
   "outputs": [
    {
     "data": {
      "text/html": [
       "<div>\n",
       "<style scoped>\n",
       "    .dataframe tbody tr th:only-of-type {\n",
       "        vertical-align: middle;\n",
       "    }\n",
       "\n",
       "    .dataframe tbody tr th {\n",
       "        vertical-align: top;\n",
       "    }\n",
       "\n",
       "    .dataframe thead th {\n",
       "        text-align: right;\n",
       "    }\n",
       "</style>\n",
       "<table border=\"1\" class=\"dataframe\">\n",
       "  <thead>\n",
       "    <tr style=\"text-align: right;\">\n",
       "      <th></th>\n",
       "      <th>count</th>\n",
       "      <th>mean</th>\n",
       "      <th>std</th>\n",
       "      <th>min</th>\n",
       "      <th>25%</th>\n",
       "      <th>50%</th>\n",
       "      <th>75%</th>\n",
       "      <th>max</th>\n",
       "    </tr>\n",
       "  </thead>\n",
       "  <tbody>\n",
       "    <tr>\n",
       "      <th>Unnamed: 0</th>\n",
       "      <td>1410.0</td>\n",
       "      <td>7.045000e+02</td>\n",
       "      <td>4.071763e+02</td>\n",
       "      <td>0.0</td>\n",
       "      <td>352.25</td>\n",
       "      <td>704.5</td>\n",
       "      <td>1056.75</td>\n",
       "      <td>1409.0</td>\n",
       "    </tr>\n",
       "    <tr>\n",
       "      <th>Fiyat</th>\n",
       "      <td>1410.0</td>\n",
       "      <td>7.238068e+06</td>\n",
       "      <td>3.816475e+07</td>\n",
       "      <td>247000.0</td>\n",
       "      <td>529900.00</td>\n",
       "      <td>749900.0</td>\n",
       "      <td>1575000.00</td>\n",
       "      <td>761000000.0</td>\n",
       "    </tr>\n",
       "    <tr>\n",
       "      <th>brüt metrekare</th>\n",
       "      <td>1410.0</td>\n",
       "      <td>1.779504e+02</td>\n",
       "      <td>2.296416e+02</td>\n",
       "      <td>50.0</td>\n",
       "      <td>110.00</td>\n",
       "      <td>127.0</td>\n",
       "      <td>155.00</td>\n",
       "      <td>1500.0</td>\n",
       "    </tr>\n",
       "    <tr>\n",
       "      <th>Net Metrekare</th>\n",
       "      <td>1410.0</td>\n",
       "      <td>1.508809e+02</td>\n",
       "      <td>1.686609e+02</td>\n",
       "      <td>42.0</td>\n",
       "      <td>100.00</td>\n",
       "      <td>110.0</td>\n",
       "      <td>136.00</td>\n",
       "      <td>1100.0</td>\n",
       "    </tr>\n",
       "  </tbody>\n",
       "</table>\n",
       "</div>"
      ],
      "text/plain": [
       "                 count          mean           std       min        25%  \\\n",
       "Unnamed: 0      1410.0  7.045000e+02  4.071763e+02       0.0     352.25   \n",
       "Fiyat           1410.0  7.238068e+06  3.816475e+07  247000.0  529900.00   \n",
       "brüt metrekare  1410.0  1.779504e+02  2.296416e+02      50.0     110.00   \n",
       "Net Metrekare   1410.0  1.508809e+02  1.686609e+02      42.0     100.00   \n",
       "\n",
       "                     50%         75%          max  \n",
       "Unnamed: 0         704.5     1056.75       1409.0  \n",
       "Fiyat           749900.0  1575000.00  761000000.0  \n",
       "brüt metrekare     127.0      155.00       1500.0  \n",
       "Net Metrekare      110.0      136.00       1100.0  "
      ]
     },
     "execution_count": 14,
     "metadata": {},
     "output_type": "execute_result"
    }
   ],
   "source": [
    "df.describe().T"
   ]
  },
  {
   "cell_type": "code",
   "execution_count": 15,
   "id": "7862f872",
   "metadata": {},
   "outputs": [
    {
     "data": {
      "text/plain": [
       "Beylikdüzü       709\n",
       "Bahçelievler     129\n",
       "Küçükçekmece      93\n",
       "Esenyurt          93\n",
       "Avcılar           87\n",
       "Çekmeköy          45\n",
       "Beykoz            40\n",
       "Fatih             40\n",
       "Maltepe           19\n",
       "Pendik            18\n",
       "Kadıköy           13\n",
       "Sarıyer           11\n",
       "Şişli              9\n",
       "Eyüpsultan         9\n",
       "Başakşehir         8\n",
       "Kartal             8\n",
       "Esenler            8\n",
       "Sultanbeyli        7\n",
       "Ataşehir           7\n",
       "Büyükçekmece       7\n",
       "Beşiktaş           6\n",
       "Bağcılar           6\n",
       "Ümraniye           5\n",
       "Beyoğlu            4\n",
       "Tuzla              4\n",
       "Arnavutköy         4\n",
       "Bakırköy           4\n",
       "Üsküdar            3\n",
       "Sancaktepe         3\n",
       "Silivri            3\n",
       "Zeytinburnu        2\n",
       "Güngören           2\n",
       "Kağıthane          2\n",
       "Gaziosmanpaşa      1\n",
       "Bayrampaşa         1\n",
       "Name: İlce, dtype: int64"
      ]
     },
     "execution_count": 15,
     "metadata": {},
     "output_type": "execute_result"
    }
   ],
   "source": [
    "df.İlce.value_counts()"
   ]
  },
  {
   "cell_type": "code",
   "execution_count": 16,
   "id": "61d619f2",
   "metadata": {},
   "outputs": [
    {
     "data": {
      "text/plain": [
       "<AxesSubplot:>"
      ]
     },
     "execution_count": 16,
     "metadata": {},
     "output_type": "execute_result"
    },
    {
     "data": {
      "image/png": "[encoded data removed]",
      "text/plain": [
       "<Figure size 432x288 with 1 Axes>"
      ]
     },
     "metadata": {
      "needs_background": "light"
     },
     "output_type": "display_data"
    }
   ],
   "source": [
    "df.İlce.value_counts().head().plot.barh()"
   ]
  },
  {
   "cell_type": "code",
   "execution_count": 17,
   "id": "f7ba7f59",
   "metadata": {},
   "outputs": [
    {
     "data": {
      "text/plain": [
       "2+1       641\n",
       "3+1       493\n",
       "5+2       118\n",
       "1+1        61\n",
       "6+1        41\n",
       "4+1        15\n",
       "3+2        10\n",
       "4+2         7\n",
       "5+1         6\n",
       "6+2         5\n",
       "1 Oda       3\n",
       "7+2         3\n",
       "6+3         1\n",
       "3.5+1       1\n",
       "8+ Oda      1\n",
       "2+0         1\n",
       "2+2         1\n",
       "5+3         1\n",
       "Stüdyo      1\n",
       "Name: Oda Sayısı, dtype: int64"
      ]
     },
     "execution_count": 17,
     "metadata": {},
     "output_type": "execute_result"
    }
   ],
   "source": [
    "df[\"Oda Sayısı\"].value_counts()"
   ]
  },
  {
   "cell_type": "code",
   "execution_count": 18,
   "id": "eace87c4",
   "metadata": {},
   "outputs": [
    {
     "data": {
      "text/plain": [
       "<AxesSubplot:>"
      ]
     },
     "execution_count": 18,
     "metadata": {},
     "output_type": "execute_result"
    },
    {
     "data": {
      "image/png": "[encoded data removed]",
      "text/plain": [
       "<Figure size 432x288 with 1 Axes>"
      ]
     },
     "metadata": {
      "needs_background": "light"
     },
     "output_type": "display_data"
    }
   ],
   "source": [
    "df[\"Oda Sayısı\"].value_counts().head().plot.barh()"
   ]
  },
  {
   "cell_type": "code",
   "execution_count": 19,
   "id": "fe5cdcc2",
   "metadata": {},
   "outputs": [
    {
     "data": {
      "text/plain": [
       "0 (Yeni)       544\n",
       "21 Ve Üzeri    316\n",
       "4              205\n",
       "5-10           133\n",
       "16-20           81\n",
       "Name: Binanın Yaşı, dtype: int64"
      ]
     },
     "execution_count": 19,
     "metadata": {},
     "output_type": "execute_result"
    }
   ],
   "source": [
    "df[\"Binanın Yaşı\"].value_counts().head()"
   ]
  },
  {
   "cell_type": "code",
   "execution_count": 20,
   "id": "76850c02",
   "metadata": {},
   "outputs": [
    {
     "data": {
      "text/plain": [
       "<AxesSubplot:>"
      ]
     },
     "execution_count": 20,
     "metadata": {},
     "output_type": "execute_result"
    },
    {
     "data": {
      "image/png": "[encoded data removed]",
      "text/plain": [
       "<Figure size 432x288 with 1 Axes>"
      ]
     },
     "metadata": {
      "needs_background": "light"
     },
     "output_type": "display_data"
    }
   ],
   "source": [
    "df[\"Binanın Yaşı\"].value_counts().head().plot.barh()"
   ]
  },
  {
   "cell_type": "code",
   "execution_count": 21,
   "id": "e3391324",
   "metadata": {},
   "outputs": [
    {
     "data": {
      "text/plain": [
       "2               373\n",
       "1               298\n",
       "4               101\n",
       "Yüksek Giriş     95\n",
       "Çatı Dubleks     82\n",
       "3                66\n",
       "5                60\n",
       "Bahçe Katı       53\n",
       "8                46\n",
       "Villa Tipi       46\n",
       "Müstakil         45\n",
       "10               41\n",
       "15               39\n",
       "Düz Giriş        22\n",
       "6                 9\n",
       "9                 8\n",
       "13                5\n",
       "7                 4\n",
       "11                3\n",
       "12                2\n",
       "20                2\n",
       "18                2\n",
       "28                2\n",
       "Kot 1 (-1)        2\n",
       "Bahçe Dublex      1\n",
       "Çatı Katı         1\n",
       "Kot 3 (-3)        1\n",
       "21                1\n",
       "Name: Bulunduğu Kat, dtype: int64"
      ]
     },
     "execution_count": 21,
     "metadata": {},
     "output_type": "execute_result"
    }
   ],
   "source": [
    "df[\"Bulunduğu Kat\"].value_counts()"
   ]
  },
  {
   "cell_type": "code",
   "execution_count": 22,
   "id": "32eaa071",
   "metadata": {},
   "outputs": [
    {
     "data": {
      "text/plain": [
       "<AxesSubplot:>"
      ]
     },
     "execution_count": 22,
     "metadata": {},
     "output_type": "execute_result"
    },
    {
     "data": {
      "image/png": "[encoded data removed]",
      "text/plain": [
       "<Figure size 432x288 with 1 Axes>"
      ]
     },
     "metadata": {
      "needs_background": "light"
     },
     "output_type": "display_data"
    }
   ],
   "source": [
    "df[\"Bulunduğu Kat\"].value_counts().head().plot.barh()"
   ]
  },
  {
   "cell_type": "code",
   "execution_count": 23,
   "id": "9785f114",
   "metadata": {},
   "outputs": [
    {
     "data": {
      "text/plain": [
       "2+1       641\n",
       "3+1       493\n",
       "5+2       118\n",
       "1+1        61\n",
       "6+1        41\n",
       "4+1        15\n",
       "3+2        10\n",
       "4+2         7\n",
       "5+1         6\n",
       "6+2         5\n",
       "1 Oda       3\n",
       "7+2         3\n",
       "6+3         1\n",
       "3.5+1       1\n",
       "8+ Oda      1\n",
       "2+0         1\n",
       "2+2         1\n",
       "5+3         1\n",
       "Stüdyo      1\n",
       "Name: Oda Sayısı, dtype: int64"
      ]
     },
     "execution_count": 23,
     "metadata": {},
     "output_type": "execute_result"
    }
   ],
   "source": [
    "df[\"Oda Sayısı\"].value_counts()"
   ]
  },
  {
   "cell_type": "code",
   "execution_count": 24,
   "id": "4d25fd34",
   "metadata": {},
   "outputs": [
    {
     "data": {
      "text/plain": [
       "<AxesSubplot:>"
      ]
     },
     "execution_count": 24,
     "metadata": {},
     "output_type": "execute_result"
    },
    {
     "data": {
      "image/png": "[encoded data removed]",
      "text/plain": [
       "<Figure size 432x288 with 1 Axes>"
      ]
     },
     "metadata": {
      "needs_background": "light"
     },
     "output_type": "display_data"
    }
   ],
   "source": [
    "df[\"Oda Sayısı\"].value_counts().head().plot.barh()"
   ]
  },
  {
   "cell_type": "code",
   "execution_count": 25,
   "id": "a2f91e38",
   "metadata": {},
   "outputs": [
    {
     "data": {
      "text/plain": [
       "110     202\n",
       "120     128\n",
       "100     126\n",
       "165      84\n",
       "130      83\n",
       "140      82\n",
       "115      80\n",
       "160      46\n",
       "135      45\n",
       "150      44\n",
       "220      43\n",
       "105      43\n",
       "270      40\n",
       "127      38\n",
       "146      38\n",
       "210      38\n",
       "141      38\n",
       "1500     38\n",
       "90       17\n",
       "85       12\n",
       "125      11\n",
       "80       10\n",
       "95       10\n",
       "145       8\n",
       "55        4\n",
       "450       4\n",
       "155       4\n",
       "300       4\n",
       "200       4\n",
       "75        4\n",
       "74        3\n",
       "167       3\n",
       "190       3\n",
       "180       3\n",
       "92        3\n",
       "230       2\n",
       "185       2\n",
       "350       2\n",
       "500       2\n",
       "178       2\n",
       "107       2\n",
       "119       2\n",
       "240       2\n",
       "189       2\n",
       "255       2\n",
       "65        2\n",
       "170       1\n",
       "164       1\n",
       "275       1\n",
       "124       1\n",
       "139       1\n",
       "102       1\n",
       "192       1\n",
       "245       1\n",
       "152       1\n",
       "128       1\n",
       "177       1\n",
       "112       1\n",
       "305       1\n",
       "117       1\n",
       "87        1\n",
       "109       1\n",
       "83        1\n",
       "78        1\n",
       "390       1\n",
       "162       1\n",
       "174       1\n",
       "86        1\n",
       "228       1\n",
       "395       1\n",
       "900       1\n",
       "50        1\n",
       "82        1\n",
       "246       1\n",
       "60        1\n",
       "216       1\n",
       "800       1\n",
       "157       1\n",
       "670       1\n",
       "550       1\n",
       "340       1\n",
       "111       1\n",
       "290       1\n",
       "99        1\n",
       "143       1\n",
       "196       1\n",
       "103       1\n",
       "81        1\n",
       "70        1\n",
       "600       1\n",
       "1200      1\n",
       "Name: brüt metrekare, dtype: int64"
      ]
     },
     "execution_count": 25,
     "metadata": {},
     "output_type": "execute_result"
    }
   ],
   "source": [
    "df[\"brüt metrekare\"].value_counts()"
   ]
  },
  {
   "cell_type": "code",
   "execution_count": 26,
   "id": "f6c464f7",
   "metadata": {},
   "outputs": [
    {
     "data": {
      "text/plain": [
       "<AxesSubplot:>"
      ]
     },
     "execution_count": 26,
     "metadata": {},
     "output_type": "execute_result"
    },
    {
     "data": {
      "image/png": "[encoded data removed]",
      "text/plain": [
       "<Figure size 432x288 with 1 Axes>"
      ]
     },
     "metadata": {
      "needs_background": "light"
     },
     "output_type": "display_data"
    }
   ],
   "source": [
    "df[\"brüt metrekare\"].value_counts().head().plot.barh()"
   ]
  },
  {
   "cell_type": "code",
   "execution_count": 27,
   "id": "ab36e5fc",
   "metadata": {},
   "outputs": [
    {
     "data": {
      "text/plain": [
       "100     169\n",
       "120     159\n",
       "90      131\n",
       "110      88\n",
       "95       83\n",
       "105      83\n",
       "102      77\n",
       "140      50\n",
       "150      49\n",
       "115      44\n",
       "125      44\n",
       "200      43\n",
       "250      41\n",
       "87       39\n",
       "136      38\n",
       "146      38\n",
       "205      38\n",
       "1100     38\n",
       "80       20\n",
       "75       17\n",
       "85       17\n",
       "70        7\n",
       "160       6\n",
       "130       6\n",
       "50        5\n",
       "170       4\n",
       "68        3\n",
       "55        3\n",
       "400       3\n",
       "180       3\n",
       "330       2\n",
       "230       2\n",
       "165       2\n",
       "270       2\n",
       "65        2\n",
       "133       2\n",
       "106       2\n",
       "220       2\n",
       "73        2\n",
       "147       2\n",
       "45        2\n",
       "135       2\n",
       "60        2\n",
       "107       2\n",
       "185       1\n",
       "320       1\n",
       "108       1\n",
       "128       1\n",
       "175       1\n",
       "304       1\n",
       "260       1\n",
       "190       1\n",
       "800       1\n",
       "450       1\n",
       "78        1\n",
       "99        1\n",
       "325       1\n",
       "300       1\n",
       "142       1\n",
       "49        1\n",
       "155       1\n",
       "93        1\n",
       "500       1\n",
       "245       1\n",
       "227       1\n",
       "215       1\n",
       "72        1\n",
       "799       1\n",
       "101       1\n",
       "510       1\n",
       "42        1\n",
       "77        1\n",
       "145       1\n",
       "198       1\n",
       "394       1\n",
       "1000      1\n",
       "84        1\n",
       "63        1\n",
       "550       1\n",
       "235       1\n",
       "Name: Net Metrekare, dtype: int64"
      ]
     },
     "execution_count": 27,
     "metadata": {},
     "output_type": "execute_result"
    }
   ],
   "source": [
    "df[\"Net Metrekare\"].value_counts()"
   ]
  },
  {
   "cell_type": "code",
   "execution_count": 28,
   "id": "b6d4547a",
   "metadata": {},
   "outputs": [
    {
     "data": {
      "text/plain": [
       "<AxesSubplot:>"
      ]
     },
     "execution_count": 28,
     "metadata": {},
     "output_type": "execute_result"
    },
    {
     "data": {
      "image/png": "[encoded data removed]",
      "text/plain": [
       "<Figure size 432x288 with 1 Axes>"
      ]
     },
     "metadata": {
      "needs_background": "light"
     },
     "output_type": "display_data"
    }
   ],
   "source": [
    "df[\"Net Metrekare\"].value_counts().head().plot.barh()"
   ]
  },
  {
   "cell_type": "code",
   "execution_count": 29,
   "id": "0490ca60",
   "metadata": {},
   "outputs": [
    {
     "data": {
      "text/plain": [
       "count    1410.000000\n",
       "mean      177.950355\n",
       "std       229.641608\n",
       "min        50.000000\n",
       "25%       110.000000\n",
       "50%       127.000000\n",
       "75%       155.000000\n",
       "max      1500.000000\n",
       "Name: brüt metrekare, dtype: float64"
      ]
     },
     "execution_count": 29,
     "metadata": {},
     "output_type": "execute_result"
    }
   ],
   "source": [
    "df[\"brüt metrekare\"].describe()"
   ]
  },
  {
   "cell_type": "code",
   "execution_count": 30,
   "id": "92f63b03",
   "metadata": {},
   "outputs": [
    {
     "data": {
      "text/plain": [
       "count    1410.000000\n",
       "mean      150.880851\n",
       "std       168.660901\n",
       "min        42.000000\n",
       "25%       100.000000\n",
       "50%       110.000000\n",
       "75%       136.000000\n",
       "max      1100.000000\n",
       "Name: Net Metrekare, dtype: float64"
      ]
     },
     "execution_count": 30,
     "metadata": {},
     "output_type": "execute_result"
    }
   ],
   "source": [
    "df[\"Net Metrekare\"].describe()"
   ]
  },
  {
   "cell_type": "code",
   "execution_count": 70,
   "id": "f823d5c1",
   "metadata": {},
   "outputs": [
    {
     "data": {
      "text/plain": [
       "Text(0, 0.5, '')"
      ]
     },
     "execution_count": 70,
     "metadata": {},
     "output_type": "execute_result"
    },
    {
     "data": {
      "image/png": "[encoded data removed]",
      "text/plain": [
       "<Figure size 360x1080 with 1 Axes>"
      ]
     },
     "metadata": {},
     "output_type": "display_data"
    }
   ],
   "source": [
    "fig = plt.figure(figsize=(5,15))\n",
    "df[\"Binanın Yaşı\"].value_counts().plot(kind = 'pie',autopct='%.1f%%');\n",
    "plt.ylabel(\"\", fontsize = 10)"
   ]
  },
  {
   "cell_type": "code",
   "execution_count": 62,
   "id": "ff2bfbcd",
   "metadata": {},
   "outputs": [
    {
     "data": {
      "text/plain": [
       "Text(0, 0.5, 'Oda Sayısı')"
      ]
     },
     "execution_count": 62,
     "metadata": {},
     "output_type": "execute_result"
    },
    {
     "data": {
      "image/png": "[encoded data removed]",
      "text/plain": [
       "<Figure size 360x1080 with 1 Axes>"
      ]
     },
     "metadata": {},
     "output_type": "display_data"
    }
   ],
   "source": [
    "fig = plt.figure(figsize=(5,15))\n",
    "df[\"Oda Sayısı\"].value_counts().head().plot(kind = 'pie',autopct='%.1f%%');\n",
    "plt.ylabel(\"Oda Sayısı\", fontsize = 20)"
   ]
  },
  {
   "cell_type": "code",
   "execution_count": 33,
   "id": "fc9f4f33",
   "metadata": {},
   "outputs": [
    {
     "data": {
      "text/plain": [
       "Text(0, 0.5, 'Bulunduğu Kat')"
      ]
     },
     "execution_count": 33,
     "metadata": {},
     "output_type": "execute_result"
    },
    {
     "data": {
      "image/png": "[encoded data removed]",
      "text/plain": [
       "<Figure size 360x1080 with 1 Axes>"
      ]
     },
     "metadata": {},
     "output_type": "display_data"
    }
   ],
   "source": [
    "fig = plt.figure(figsize=(5,15))\n",
    "df[\"Bulunduğu Kat\"].value_counts().head().plot(kind = 'pie',autopct='%.1f%%');\n",
    "plt.ylabel(\"Bulunduğu Kat\", fontsize = 20)"
   ]
  },
  {
   "cell_type": "code",
   "execution_count": 34,
   "id": "a026cb36",
   "metadata": {},
   "outputs": [
    {
     "data": {
      "text/plain": [
       "<seaborn.axisgrid.FacetGrid at 0x24646febf10>"
      ]
     },
     "execution_count": 34,
     "metadata": {},
     "output_type": "execute_result"
    },
    {
     "data": {
      "image/png": "[encoded data removed]",
      "text/plain": [
       "<Figure size 360x360 with 1 Axes>"
      ]
     },
     "metadata": {
      "needs_background": "light"
     },
     "output_type": "display_data"
    }
   ],
   "source": [
    "sns.lmplot(x='Fiyat', y='brüt metrekare', data=df)"
   ]
  },
  {
   "cell_type": "code",
   "execution_count": 35,
   "id": "2c532fa7",
   "metadata": {},
   "outputs": [
    {
     "data": {
      "text/plain": [
       "<seaborn.axisgrid.FacetGrid at 0x24646f0bee0>"
      ]
     },
     "execution_count": 35,
     "metadata": {},
     "output_type": "execute_result"
    },
    {
     "data": {
      "image/png": "[encoded data removed]",
      "text/plain": [
       "<Figure size 360x360 with 1 Axes>"
      ]
     },
     "metadata": {
      "needs_background": "light"
     },
     "output_type": "display_data"
    }
   ],
   "source": [
    "sns.lmplot(x='Fiyat', y='Net Metrekare', data=df)"
   ]
  },
  {
   "cell_type": "code",
   "execution_count": 36,
   "id": "efd3516c",
   "metadata": {},
   "outputs": [
    {
     "data": {
      "text/plain": [
       "<seaborn.axisgrid.FacetGrid at 0x24649e7ea40>"
      ]
     },
     "execution_count": 36,
     "metadata": {},
     "output_type": "execute_result"
    },
    {
     "data": {
      "image/png": "[encoded data removed]",
      "text/plain": [
       "<Figure size 434x360 with 1 Axes>"
      ]
     },
     "metadata": {
      "needs_background": "light"
     },
     "output_type": "display_data"
    }
   ],
   "source": [
    "sns.lmplot(x = 'Net Metrekare', y = 'brüt metrekare', fit_reg = False, hue = 'Oda Sayısı', data = df)"
   ]
  },
  {
   "cell_type": "code",
   "execution_count": 37,
   "id": "803e7ee0",
   "metadata": {},
   "outputs": [
    {
     "data": {
      "text/plain": [
       "<AxesSubplot:xlabel='Binanın Yaşı', ylabel='count'>"
      ]
     },
     "execution_count": 37,
     "metadata": {},
     "output_type": "execute_result"
    },
    {
     "data": {
      "image/png": "[encoded data removed]",
      "text/plain": [
       "<Figure size 432x288 with 1 Axes>"
      ]
     },
     "metadata": {
      "needs_background": "light"
     },
     "output_type": "display_data"
    }
   ],
   "source": [
    "sns.countplot(x='Binanın Yaşı', data=df)"
   ]
  },
  {
   "cell_type": "code",
   "execution_count": null,
   "id": "c6005645",
   "metadata": {},
   "outputs": [],
   "source": [
    "\n"
   ]
  },
  {
   "cell_type": "code",
   "execution_count": null,
   "id": "94e3f98c",
   "metadata": {},
   "outputs": [],
   "source": []
  }
 ],
 "metadata": {
  "kernelspec": {
   "display_name": "Python 3 (ipykernel)",
   "language": "python",
   "name": "python3"
  },
  "language_info": {
   "codemirror_mode": {
    "name": "ipython",
    "version": 3
   },
   "file_extension": ".py",
   "mimetype": "text/x-python",
   "name": "python",
   "nbconvert_exporter": "python",
   "pygments_lexer": "ipython3",
   "version": "3.10.4"
  }
 },
 "nbformat": 4,
 "nbformat_minor": 5
}
