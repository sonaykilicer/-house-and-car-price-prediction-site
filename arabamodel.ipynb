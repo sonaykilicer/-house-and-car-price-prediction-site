{
 "cells": [
  {
   "cell_type": "code",
   "execution_count": 46,
   "id": "70261fef",
   "metadata": {},
   "outputs": [],
   "source": [
    "from sklearn.model_selection import train_test_split, GridSearchCV,cross_val_score\n",
    "from sklearn.metrics import mean_squared_error, r2_score\n",
    "import pandas as pd\n",
    "from sklearn.metrics import r2_score\n",
    "import xgboost as xgb\n",
    "import numpy\n",
    "from xgboost import XGBRegressor\n",
    "import numpy as np\n",
    "import seaborn as sns\n",
    "import matplotlib.pyplot as plt\n",
    "\n",
    "pd.set_option(\"display.max_column\", None)\n",
    "pd.set_option(\"display.max_row\", None)"
   ]
  },
  {
   "cell_type": "code",
   "execution_count": 47,
   "id": "dcc0167b",
   "metadata": {},
   "outputs": [
    {
     "data": {
      "text/html": [
       "<div>\n",
       "<style scoped>\n",
       "    .dataframe tbody tr th:only-of-type {\n",
       "        vertical-align: middle;\n",
       "    }\n",
       "\n",
       "    .dataframe tbody tr th {\n",
       "        vertical-align: top;\n",
       "    }\n",
       "\n",
       "    .dataframe thead th {\n",
       "        text-align: right;\n",
       "    }\n",
       "</style>\n",
       "<table border=\"1\" class=\"dataframe\">\n",
       "  <thead>\n",
       "    <tr style=\"text-align: right;\">\n",
       "      <th></th>\n",
       "      <th>Unnamed: 0</th>\n",
       "      <th>Fiyat</th>\n",
       "      <th>Marka</th>\n",
       "      <th>Seri</th>\n",
       "      <th>Model</th>\n",
       "      <th>Yıl</th>\n",
       "      <th>Yakıt Tipi</th>\n",
       "      <th>Vites Tipi</th>\n",
       "      <th>Motor Hacmi</th>\n",
       "      <th>Motor Gücü</th>\n",
       "      <th>Kilometre</th>\n",
       "      <th>Toplam Tramer Tutarı</th>\n",
       "    </tr>\n",
       "  </thead>\n",
       "  <tbody>\n",
       "    <tr>\n",
       "      <th>0</th>\n",
       "      <td>0</td>\n",
       "      <td>305000</td>\n",
       "      <td>25</td>\n",
       "      <td>72</td>\n",
       "      <td>202</td>\n",
       "      <td>2011</td>\n",
       "      <td>1</td>\n",
       "      <td>0</td>\n",
       "      <td>1598</td>\n",
       "      <td>105</td>\n",
       "      <td>215</td>\n",
       "      <td>0.0</td>\n",
       "    </tr>\n",
       "    <tr>\n",
       "      <th>1</th>\n",
       "      <td>1</td>\n",
       "      <td>95000</td>\n",
       "      <td>20</td>\n",
       "      <td>38</td>\n",
       "      <td>12</td>\n",
       "      <td>2005</td>\n",
       "      <td>2</td>\n",
       "      <td>0</td>\n",
       "      <td>1149</td>\n",
       "      <td>75</td>\n",
       "      <td>275</td>\n",
       "      <td>0.0</td>\n",
       "    </tr>\n",
       "    <tr>\n",
       "      <th>2</th>\n",
       "      <td>2</td>\n",
       "      <td>430000</td>\n",
       "      <td>6</td>\n",
       "      <td>50</td>\n",
       "      <td>117</td>\n",
       "      <td>2016</td>\n",
       "      <td>1</td>\n",
       "      <td>2</td>\n",
       "      <td>1499</td>\n",
       "      <td>120</td>\n",
       "      <td>152</td>\n",
       "      <td>2500.0</td>\n",
       "    </tr>\n",
       "    <tr>\n",
       "      <th>3</th>\n",
       "      <td>3</td>\n",
       "      <td>320000</td>\n",
       "      <td>8</td>\n",
       "      <td>103</td>\n",
       "      <td>148</td>\n",
       "      <td>2014</td>\n",
       "      <td>1</td>\n",
       "      <td>1</td>\n",
       "      <td>1582</td>\n",
       "      <td>128</td>\n",
       "      <td>128</td>\n",
       "      <td>7000.0</td>\n",
       "    </tr>\n",
       "    <tr>\n",
       "      <th>4</th>\n",
       "      <td>4</td>\n",
       "      <td>418000</td>\n",
       "      <td>7</td>\n",
       "      <td>37</td>\n",
       "      <td>220</td>\n",
       "      <td>2018</td>\n",
       "      <td>2</td>\n",
       "      <td>1</td>\n",
       "      <td>1597</td>\n",
       "      <td>125</td>\n",
       "      <td>41</td>\n",
       "      <td>0.0</td>\n",
       "    </tr>\n",
       "  </tbody>\n",
       "</table>\n",
       "</div>"
      ],
      "text/plain": [
       "   Unnamed: 0   Fiyat  Marka  Seri  Model   Yıl  Yakıt Tipi  Vites Tipi  \\\n",
       "0           0  305000     25    72    202  2011           1           0   \n",
       "1           1   95000     20    38     12  2005           2           0   \n",
       "2           2  430000      6    50    117  2016           1           2   \n",
       "3           3  320000      8   103    148  2014           1           1   \n",
       "4           4  418000      7    37    220  2018           2           1   \n",
       "\n",
       "   Motor Hacmi  Motor Gücü  Kilometre  Toplam Tramer Tutarı  \n",
       "0         1598         105        215                   0.0  \n",
       "1         1149          75        275                   0.0  \n",
       "2         1499         120        152                2500.0  \n",
       "3         1582         128        128                7000.0  \n",
       "4         1597         125         41                   0.0  "
      ]
     },
     "execution_count": 47,
     "metadata": {},
     "output_type": "execute_result"
    }
   ],
   "source": [
    "df = pd.read_csv(\"son_hali_araba.csv\")\n",
    "df.head()"
   ]
  },
  {
   "cell_type": "code",
   "execution_count": 48,
   "id": "f8a12d28",
   "metadata": {},
   "outputs": [
    {
     "data": {
      "text/plain": [
       "Text(0, 0.5, 'Yıl')"
      ]
     },
     "execution_count": 48,
     "metadata": {},
     "output_type": "execute_result"
    },
    {
     "data": {
      "image/png": "[encoded data removed]",
      "text/plain": [
       "<Figure size 360x1080 with 1 Axes>"
      ]
     },
     "metadata": {},
     "output_type": "display_data"
    }
   ],
   "source": [
    "fig = plt.figure(figsize=(5,15))\n",
    "df[\"Yıl\"].value_counts().head().plot(kind = 'pie',autopct='%.1f%%');\n",
    "plt.ylabel(\"Yıl\", fontsize = 20)"
   ]
  },
  {
   "cell_type": "code",
   "execution_count": 32,
   "id": "84540f02",
   "metadata": {},
   "outputs": [
    {
     "data": {
      "text/html": [
       "<div>\n",
       "<style scoped>\n",
       "    .dataframe tbody tr th:only-of-type {\n",
       "        vertical-align: middle;\n",
       "    }\n",
       "\n",
       "    .dataframe tbody tr th {\n",
       "        vertical-align: top;\n",
       "    }\n",
       "\n",
       "    .dataframe thead th {\n",
       "        text-align: right;\n",
       "    }\n",
       "</style>\n",
       "<table border=\"1\" class=\"dataframe\">\n",
       "  <thead>\n",
       "    <tr style=\"text-align: right;\">\n",
       "      <th></th>\n",
       "      <th>count</th>\n",
       "      <th>mean</th>\n",
       "      <th>std</th>\n",
       "      <th>min</th>\n",
       "      <th>25%</th>\n",
       "      <th>50%</th>\n",
       "      <th>75%</th>\n",
       "      <th>max</th>\n",
       "    </tr>\n",
       "  </thead>\n",
       "  <tbody>\n",
       "    <tr>\n",
       "      <th>Unnamed: 0</th>\n",
       "      <td>460.0</td>\n",
       "      <td>229.500000</td>\n",
       "      <td>132.934821</td>\n",
       "      <td>0.0</td>\n",
       "      <td>114.75</td>\n",
       "      <td>229.5</td>\n",
       "      <td>344.25</td>\n",
       "      <td>459.0</td>\n",
       "    </tr>\n",
       "    <tr>\n",
       "      <th>Fiyat</th>\n",
       "      <td>460.0</td>\n",
       "      <td>291392.813043</td>\n",
       "      <td>263418.229788</td>\n",
       "      <td>25750.0</td>\n",
       "      <td>148125.00</td>\n",
       "      <td>232500.0</td>\n",
       "      <td>359000.00</td>\n",
       "      <td>2990000.0</td>\n",
       "    </tr>\n",
       "    <tr>\n",
       "      <th>Marka</th>\n",
       "      <td>460.0</td>\n",
       "      <td>15.006522</td>\n",
       "      <td>8.379478</td>\n",
       "      <td>0.0</td>\n",
       "      <td>6.00</td>\n",
       "      <td>17.5</td>\n",
       "      <td>22.25</td>\n",
       "      <td>26.0</td>\n",
       "    </tr>\n",
       "    <tr>\n",
       "      <th>Seri</th>\n",
       "      <td>460.0</td>\n",
       "      <td>50.339130</td>\n",
       "      <td>26.286137</td>\n",
       "      <td>0.0</td>\n",
       "      <td>37.00</td>\n",
       "      <td>49.0</td>\n",
       "      <td>69.00</td>\n",
       "      <td>104.0</td>\n",
       "    </tr>\n",
       "    <tr>\n",
       "      <th>Model</th>\n",
       "      <td>460.0</td>\n",
       "      <td>147.471739</td>\n",
       "      <td>82.803606</td>\n",
       "      <td>0.0</td>\n",
       "      <td>73.75</td>\n",
       "      <td>145.5</td>\n",
       "      <td>209.25</td>\n",
       "      <td>301.0</td>\n",
       "    </tr>\n",
       "    <tr>\n",
       "      <th>Yıl</th>\n",
       "      <td>460.0</td>\n",
       "      <td>2011.291304</td>\n",
       "      <td>7.450778</td>\n",
       "      <td>1974.0</td>\n",
       "      <td>2007.00</td>\n",
       "      <td>2013.0</td>\n",
       "      <td>2016.00</td>\n",
       "      <td>2022.0</td>\n",
       "    </tr>\n",
       "    <tr>\n",
       "      <th>Yakıt Tipi</th>\n",
       "      <td>460.0</td>\n",
       "      <td>0.993478</td>\n",
       "      <td>0.730566</td>\n",
       "      <td>0.0</td>\n",
       "      <td>0.00</td>\n",
       "      <td>1.0</td>\n",
       "      <td>2.00</td>\n",
       "      <td>2.0</td>\n",
       "    </tr>\n",
       "    <tr>\n",
       "      <th>Vites Tipi</th>\n",
       "      <td>460.0</td>\n",
       "      <td>0.784783</td>\n",
       "      <td>0.855195</td>\n",
       "      <td>0.0</td>\n",
       "      <td>0.00</td>\n",
       "      <td>1.0</td>\n",
       "      <td>2.00</td>\n",
       "      <td>2.0</td>\n",
       "    </tr>\n",
       "    <tr>\n",
       "      <th>Motor Hacmi</th>\n",
       "      <td>460.0</td>\n",
       "      <td>1487.452174</td>\n",
       "      <td>290.093479</td>\n",
       "      <td>349.0</td>\n",
       "      <td>1368.00</td>\n",
       "      <td>1461.0</td>\n",
       "      <td>1597.00</td>\n",
       "      <td>4501.0</td>\n",
       "    </tr>\n",
       "    <tr>\n",
       "      <th>Motor Gücü</th>\n",
       "      <td>460.0</td>\n",
       "      <td>113.721739</td>\n",
       "      <td>42.450391</td>\n",
       "      <td>54.0</td>\n",
       "      <td>90.00</td>\n",
       "      <td>105.0</td>\n",
       "      <td>125.00</td>\n",
       "      <td>525.0</td>\n",
       "    </tr>\n",
       "    <tr>\n",
       "      <th>Kilometre</th>\n",
       "      <td>460.0</td>\n",
       "      <td>157.991304</td>\n",
       "      <td>93.828100</td>\n",
       "      <td>0.0</td>\n",
       "      <td>89.50</td>\n",
       "      <td>145.0</td>\n",
       "      <td>223.25</td>\n",
       "      <td>500.0</td>\n",
       "    </tr>\n",
       "    <tr>\n",
       "      <th>Toplam Tramer Tutarı</th>\n",
       "      <td>460.0</td>\n",
       "      <td>9665.178261</td>\n",
       "      <td>74924.869668</td>\n",
       "      <td>0.0</td>\n",
       "      <td>0.00</td>\n",
       "      <td>0.0</td>\n",
       "      <td>0.00</td>\n",
       "      <td>800000.0</td>\n",
       "    </tr>\n",
       "  </tbody>\n",
       "</table>\n",
       "</div>"
      ],
      "text/plain": [
       "                      count           mean            std      min        25%  \\\n",
       "Unnamed: 0            460.0     229.500000     132.934821      0.0     114.75   \n",
       "Fiyat                 460.0  291392.813043  263418.229788  25750.0  148125.00   \n",
       "Marka                 460.0      15.006522       8.379478      0.0       6.00   \n",
       "Seri                  460.0      50.339130      26.286137      0.0      37.00   \n",
       "Model                 460.0     147.471739      82.803606      0.0      73.75   \n",
       "Yıl                   460.0    2011.291304       7.450778   1974.0    2007.00   \n",
       "Yakıt Tipi            460.0       0.993478       0.730566      0.0       0.00   \n",
       "Vites Tipi            460.0       0.784783       0.855195      0.0       0.00   \n",
       "Motor Hacmi           460.0    1487.452174     290.093479    349.0    1368.00   \n",
       "Motor Gücü            460.0     113.721739      42.450391     54.0      90.00   \n",
       "Kilometre             460.0     157.991304      93.828100      0.0      89.50   \n",
       "Toplam Tramer Tutarı  460.0    9665.178261   74924.869668      0.0       0.00   \n",
       "\n",
       "                           50%        75%        max  \n",
       "Unnamed: 0               229.5     344.25      459.0  \n",
       "Fiyat                 232500.0  359000.00  2990000.0  \n",
       "Marka                     17.5      22.25       26.0  \n",
       "Seri                      49.0      69.00      104.0  \n",
       "Model                    145.5     209.25      301.0  \n",
       "Yıl                     2013.0    2016.00     2022.0  \n",
       "Yakıt Tipi                 1.0       2.00        2.0  \n",
       "Vites Tipi                 1.0       2.00        2.0  \n",
       "Motor Hacmi             1461.0    1597.00     4501.0  \n",
       "Motor Gücü               105.0     125.00      525.0  \n",
       "Kilometre                145.0     223.25      500.0  \n",
       "Toplam Tramer Tutarı       0.0       0.00   800000.0  "
      ]
     },
     "execution_count": 32,
     "metadata": {},
     "output_type": "execute_result"
    }
   ],
   "source": [
    "df.describe().T"
   ]
  },
  {
   "cell_type": "code",
   "execution_count": 41,
   "id": "60c4dbc6",
   "metadata": {},
   "outputs": [
    {
     "data": {
      "text/plain": [
       "132    8\n",
       "100    6\n",
       "128    6\n",
       "0      6\n",
       "230    5\n",
       "95     5\n",
       "200    5\n",
       "178    5\n",
       "120    5\n",
       "330    5\n",
       "350    4\n",
       "280    4\n",
       "113    4\n",
       "23     4\n",
       "250    4\n",
       "65     4\n",
       "180    4\n",
       "96     4\n",
       "125    4\n",
       "22     4\n",
       "260    4\n",
       "12     4\n",
       "186    4\n",
       "149    4\n",
       "220    3\n",
       "193    3\n",
       "257    3\n",
       "275    3\n",
       "102    3\n",
       "143    3\n",
       "210    3\n",
       "212    3\n",
       "69     3\n",
       "115    3\n",
       "224    3\n",
       "34     3\n",
       "134    3\n",
       "111    3\n",
       "72     3\n",
       "60     3\n",
       "92     3\n",
       "155    3\n",
       "247    3\n",
       "145    3\n",
       "292    3\n",
       "310    3\n",
       "29     3\n",
       "153    3\n",
       "86     3\n",
       "198    3\n",
       "269    3\n",
       "112    3\n",
       "144    3\n",
       "97     3\n",
       "270    3\n",
       "142    3\n",
       "127    3\n",
       "73     3\n",
       "190    3\n",
       "138    3\n",
       "90     3\n",
       "152    3\n",
       "159    3\n",
       "45     2\n",
       "8      2\n",
       "68     2\n",
       "49     2\n",
       "82     2\n",
       "19     2\n",
       "168    2\n",
       "290    2\n",
       "87     2\n",
       "174    2\n",
       "252    2\n",
       "170    2\n",
       "135    2\n",
       "295    2\n",
       "110    2\n",
       "53     2\n",
       "83     2\n",
       "137    2\n",
       "74     2\n",
       "24     2\n",
       "140    2\n",
       "104    2\n",
       "300    2\n",
       "166    2\n",
       "197    2\n",
       "20     2\n",
       "58     2\n",
       "130    2\n",
       "215    2\n",
       "188    2\n",
       "85     2\n",
       "209    2\n",
       "2      2\n",
       "43     2\n",
       "157    2\n",
       "76     2\n",
       "380    2\n",
       "238    2\n",
       "103    2\n",
       "1      2\n",
       "225    2\n",
       "141    2\n",
       "213    2\n",
       "63     2\n",
       "79     2\n",
       "44     2\n",
       "214    2\n",
       "150    2\n",
       "248    2\n",
       "175    2\n",
       "242    2\n",
       "229    2\n",
       "41     2\n",
       "297    2\n",
       "108    2\n",
       "46     2\n",
       "165    2\n",
       "187    2\n",
       "244    2\n",
       "217    2\n",
       "185    2\n",
       "124    1\n",
       "243    1\n",
       "184    1\n",
       "109    1\n",
       "114    1\n",
       "430    1\n",
       "377    1\n",
       "6      1\n",
       "118    1\n",
       "412    1\n",
       "236    1\n",
       "302    1\n",
       "205    1\n",
       "189    1\n",
       "136    1\n",
       "15     1\n",
       "9      1\n",
       "37     1\n",
       "81     1\n",
       "21     1\n",
       "25     1\n",
       "397    1\n",
       "233    1\n",
       "358    1\n",
       "266    1\n",
       "93     1\n",
       "223    1\n",
       "59     1\n",
       "315    1\n",
       "278    1\n",
       "323    1\n",
       "38     1\n",
       "196    1\n",
       "160    1\n",
       "105    1\n",
       "199    1\n",
       "204    1\n",
       "88     1\n",
       "181    1\n",
       "5      1\n",
       "61     1\n",
       "7      1\n",
       "366    1\n",
       "203    1\n",
       "500    1\n",
       "251    1\n",
       "221    1\n",
       "167    1\n",
       "284    1\n",
       "148    1\n",
       "80     1\n",
       "400    1\n",
       "311    1\n",
       "241    1\n",
       "263    1\n",
       "18     1\n",
       "304    1\n",
       "66     1\n",
       "309    1\n",
       "207    1\n",
       "169    1\n",
       "179    1\n",
       "56     1\n",
       "57     1\n",
       "154    1\n",
       "84     1\n",
       "71     1\n",
       "28     1\n",
       "299    1\n",
       "11     1\n",
       "261    1\n",
       "334    1\n",
       "360    1\n",
       "119    1\n",
       "237    1\n",
       "54     1\n",
       "211    1\n",
       "75     1\n",
       "182    1\n",
       "285    1\n",
       "91     1\n",
       "50     1\n",
       "133    1\n",
       "99     1\n",
       "216    1\n",
       "240    1\n",
       "279    1\n",
       "318    1\n",
       "271    1\n",
       "52     1\n",
       "254    1\n",
       "195    1\n",
       "164    1\n",
       "343    1\n",
       "163    1\n",
       "245    1\n",
       "122    1\n",
       "116    1\n",
       "151    1\n",
       "183    1\n",
       "146    1\n",
       "222    1\n",
       "306    1\n",
       "131    1\n",
       "227    1\n",
       "255    1\n",
       "172    1\n",
       "246    1\n",
       "327    1\n",
       "Name: Kilometre, dtype: int64"
      ]
     },
     "execution_count": 41,
     "metadata": {},
     "output_type": "execute_result"
    }
   ],
   "source": [
    "df[\"Kilometre\"].value_counts()"
   ]
  },
  {
   "cell_type": "code",
   "execution_count": null,
   "id": "83ace800",
   "metadata": {},
   "outputs": [],
   "source": []
  },
  {
   "cell_type": "code",
   "execution_count": 7,
   "id": "b28fe6dd",
   "metadata": {},
   "outputs": [],
   "source": [
    "df.drop(\"Unnamed: 0\", axis = 1, inplace = True)\n",
    "df.drop(\"Model\", axis = 1, inplace = True)"
   ]
  },
  {
   "cell_type": "code",
   "execution_count": 8,
   "id": "f2666894",
   "metadata": {},
   "outputs": [],
   "source": [
    "X = df.drop([\"Fiyat\"], axis = 1)\n",
    "y = df[\"Fiyat\"] "
   ]
  },
  {
   "cell_type": "code",
   "execution_count": 9,
   "id": "fb8baf5c",
   "metadata": {},
   "outputs": [],
   "source": [
    "X_train, X_test, y_train, y_test = train_test_split(X, y, test_size = 0.25, random_state = 144)"
   ]
  },
  {
   "cell_type": "code",
   "execution_count": 10,
   "id": "bfd0d7e8",
   "metadata": {},
   "outputs": [],
   "source": [
    "params = {\"colsample_bytree\":[0.4,0.5,0.6],\n",
    "          \"learning_rate\":[0.01,0.02,0.09],\n",
    "          \"max_depth\":[2,3,4,5,6],\n",
    "          \"n_estimators\":[100,200,500,2000]}"
   ]
  },
  {
   "cell_type": "code",
   "execution_count": 11,
   "id": "4b5aa7c6",
   "metadata": {},
   "outputs": [],
   "source": [
    "xgb1 = XGBRegressor(colsample_bytree = 0.4, \n",
    "                    learning_rate = 0.02, \n",
    "                    max_depth = 5, \n",
    "                    n_estimators = 2000)"
   ]
  },
  {
   "cell_type": "code",
   "execution_count": null,
   "id": "f5764878",
   "metadata": {},
   "outputs": [],
   "source": []
  },
  {
   "cell_type": "code",
   "execution_count": 12,
   "id": "4c83d0f9",
   "metadata": {},
   "outputs": [
    {
     "name": "stderr",
     "output_type": "stream",
     "text": [
      "C:\\Users\\sonay\\AppData\\Local\\Programs\\Python\\Python310\\lib\\site-packages\\xgboost\\data.py:262: FutureWarning: pandas.Int64Index is deprecated and will be removed from pandas in a future version. Use pandas.Index with the appropriate dtype instead.\n",
      "  elif isinstance(data.columns, (pd.Int64Index, pd.RangeIndex)):\n"
     ]
    }
   ],
   "source": [
    "model_xgb = xgb1.fit(X_train, y_train)"
   ]
  },
  {
   "cell_type": "code",
   "execution_count": 13,
   "id": "1cf6f982",
   "metadata": {},
   "outputs": [
    {
     "data": {
      "text/plain": [
       "0.8486986216961285"
      ]
     },
     "execution_count": 13,
     "metadata": {},
     "output_type": "execute_result"
    }
   ],
   "source": [
    "model_xgb.score(X_test, y_test)"
   ]
  },
  {
   "cell_type": "code",
   "execution_count": 14,
   "id": "c585b5b6",
   "metadata": {},
   "outputs": [
    {
     "name": "stdout",
     "output_type": "stream",
     "text": [
      "Test Seti Doğruluğu : 84.87%\n"
     ]
    },
    {
     "name": "stderr",
     "output_type": "stream",
     "text": [
      "C:\\Users\\sonay\\AppData\\Local\\Programs\\Python\\Python310\\lib\\site-packages\\xgboost\\data.py:262: FutureWarning: pandas.Int64Index is deprecated and will be removed from pandas in a future version. Use pandas.Index with the appropriate dtype instead.\n",
      "  elif isinstance(data.columns, (pd.Int64Index, pd.RangeIndex)):\n"
     ]
    }
   ],
   "source": [
    "print('Test Seti Doğruluğu : {}%'.format(round(model_xgb.score(X_test, y_test)*100,2)))"
   ]
  },
  {
   "cell_type": "code",
   "execution_count": 24,
   "id": "bb1819d8",
   "metadata": {},
   "outputs": [
    {
     "name": "stderr",
     "output_type": "stream",
     "text": [
      "C:\\Users\\sonay\\AppData\\Local\\Programs\\Python\\Python310\\lib\\site-packages\\xgboost\\data.py:262: FutureWarning: pandas.Int64Index is deprecated and will be removed from pandas in a future version. Use pandas.Index with the appropriate dtype instead.\n",
      "  elif isinstance(data.columns, (pd.Int64Index, pd.RangeIndex)):\n",
      "C:\\Users\\sonay\\AppData\\Local\\Programs\\Python\\Python310\\lib\\site-packages\\xgboost\\data.py:262: FutureWarning: pandas.Int64Index is deprecated and will be removed from pandas in a future version. Use pandas.Index with the appropriate dtype instead.\n",
      "  elif isinstance(data.columns, (pd.Int64Index, pd.RangeIndex)):\n",
      "C:\\Users\\sonay\\AppData\\Local\\Programs\\Python\\Python310\\lib\\site-packages\\xgboost\\data.py:262: FutureWarning: pandas.Int64Index is deprecated and will be removed from pandas in a future version. Use pandas.Index with the appropriate dtype instead.\n",
      "  elif isinstance(data.columns, (pd.Int64Index, pd.RangeIndex)):\n",
      "C:\\Users\\sonay\\AppData\\Local\\Programs\\Python\\Python310\\lib\\site-packages\\xgboost\\data.py:262: FutureWarning: pandas.Int64Index is deprecated and will be removed from pandas in a future version. Use pandas.Index with the appropriate dtype instead.\n",
      "  elif isinstance(data.columns, (pd.Int64Index, pd.RangeIndex)):\n",
      "C:\\Users\\sonay\\AppData\\Local\\Programs\\Python\\Python310\\lib\\site-packages\\xgboost\\data.py:262: FutureWarning: pandas.Int64Index is deprecated and will be removed from pandas in a future version. Use pandas.Index with the appropriate dtype instead.\n",
      "  elif isinstance(data.columns, (pd.Int64Index, pd.RangeIndex)):\n",
      "C:\\Users\\sonay\\AppData\\Local\\Programs\\Python\\Python310\\lib\\site-packages\\xgboost\\data.py:262: FutureWarning: pandas.Int64Index is deprecated and will be removed from pandas in a future version. Use pandas.Index with the appropriate dtype instead.\n",
      "  elif isinstance(data.columns, (pd.Int64Index, pd.RangeIndex)):\n",
      "C:\\Users\\sonay\\AppData\\Local\\Programs\\Python\\Python310\\lib\\site-packages\\xgboost\\data.py:262: FutureWarning: pandas.Int64Index is deprecated and will be removed from pandas in a future version. Use pandas.Index with the appropriate dtype instead.\n",
      "  elif isinstance(data.columns, (pd.Int64Index, pd.RangeIndex)):\n",
      "C:\\Users\\sonay\\AppData\\Local\\Programs\\Python\\Python310\\lib\\site-packages\\xgboost\\data.py:262: FutureWarning: pandas.Int64Index is deprecated and will be removed from pandas in a future version. Use pandas.Index with the appropriate dtype instead.\n",
      "  elif isinstance(data.columns, (pd.Int64Index, pd.RangeIndex)):\n",
      "C:\\Users\\sonay\\AppData\\Local\\Programs\\Python\\Python310\\lib\\site-packages\\xgboost\\data.py:262: FutureWarning: pandas.Int64Index is deprecated and will be removed from pandas in a future version. Use pandas.Index with the appropriate dtype instead.\n",
      "  elif isinstance(data.columns, (pd.Int64Index, pd.RangeIndex)):\n",
      "C:\\Users\\sonay\\AppData\\Local\\Programs\\Python\\Python310\\lib\\site-packages\\xgboost\\data.py:262: FutureWarning: pandas.Int64Index is deprecated and will be removed from pandas in a future version. Use pandas.Index with the appropriate dtype instead.\n",
      "  elif isinstance(data.columns, (pd.Int64Index, pd.RangeIndex)):\n"
     ]
    },
    {
     "data": {
      "text/plain": [
       "91097.15731729925"
      ]
     },
     "execution_count": 24,
     "metadata": {},
     "output_type": "execute_result"
    }
   ],
   "source": [
    "np.sqrt(-1*(cross_val_score(model_xgb, X_test, y_test, cv=10, scoring='neg_mean_squared_error'))).mean()\n"
   ]
  },
  {
   "cell_type": "code",
   "execution_count": 18,
   "id": "a4ed76dc",
   "metadata": {},
   "outputs": [],
   "source": [
    "importance = pd.DataFrame({\"Importance\": model_xgb.feature_importances_},\n",
    "                         index=X_train.columns)"
   ]
  },
  {
   "cell_type": "code",
   "execution_count": 19,
   "id": "80e9b757",
   "metadata": {},
   "outputs": [
    {
     "data": {
      "text/html": [
       "<div>\n",
       "<style scoped>\n",
       "    .dataframe tbody tr th:only-of-type {\n",
       "        vertical-align: middle;\n",
       "    }\n",
       "\n",
       "    .dataframe tbody tr th {\n",
       "        vertical-align: top;\n",
       "    }\n",
       "\n",
       "    .dataframe thead th {\n",
       "        text-align: right;\n",
       "    }\n",
       "</style>\n",
       "<table border=\"1\" class=\"dataframe\">\n",
       "  <thead>\n",
       "    <tr style=\"text-align: right;\">\n",
       "      <th></th>\n",
       "      <th>Importance</th>\n",
       "    </tr>\n",
       "  </thead>\n",
       "  <tbody>\n",
       "    <tr>\n",
       "      <th>Marka</th>\n",
       "      <td>0.146050</td>\n",
       "    </tr>\n",
       "    <tr>\n",
       "      <th>Seri</th>\n",
       "      <td>0.064487</td>\n",
       "    </tr>\n",
       "    <tr>\n",
       "      <th>Yıl</th>\n",
       "      <td>0.121838</td>\n",
       "    </tr>\n",
       "    <tr>\n",
       "      <th>Yakıt Tipi</th>\n",
       "      <td>0.058485</td>\n",
       "    </tr>\n",
       "    <tr>\n",
       "      <th>Vites Tipi</th>\n",
       "      <td>0.160530</td>\n",
       "    </tr>\n",
       "    <tr>\n",
       "      <th>Motor Hacmi</th>\n",
       "      <td>0.136012</td>\n",
       "    </tr>\n",
       "    <tr>\n",
       "      <th>Motor Gücü</th>\n",
       "      <td>0.217596</td>\n",
       "    </tr>\n",
       "    <tr>\n",
       "      <th>Kilometre</th>\n",
       "      <td>0.085501</td>\n",
       "    </tr>\n",
       "    <tr>\n",
       "      <th>Toplam Tramer Tutarı</th>\n",
       "      <td>0.009500</td>\n",
       "    </tr>\n",
       "  </tbody>\n",
       "</table>\n",
       "</div>"
      ],
      "text/plain": [
       "                      Importance\n",
       "Marka                   0.146050\n",
       "Seri                    0.064487\n",
       "Yıl                     0.121838\n",
       "Yakıt Tipi              0.058485\n",
       "Vites Tipi              0.160530\n",
       "Motor Hacmi             0.136012\n",
       "Motor Gücü              0.217596\n",
       "Kilometre               0.085501\n",
       "Toplam Tramer Tutarı    0.009500"
      ]
     },
     "execution_count": 19,
     "metadata": {},
     "output_type": "execute_result"
    }
   ],
   "source": [
    "importance"
   ]
  },
  {
   "cell_type": "code",
   "execution_count": 20,
   "id": "1534d38d",
   "metadata": {},
   "outputs": [
    {
     "name": "stderr",
     "output_type": "stream",
     "text": [
      "C:\\Users\\sonay\\AppData\\Local\\Programs\\Python\\Python310\\lib\\site-packages\\xgboost\\data.py:262: FutureWarning: pandas.Int64Index is deprecated and will be removed from pandas in a future version. Use pandas.Index with the appropriate dtype instead.\n",
      "  elif isinstance(data.columns, (pd.Int64Index, pd.RangeIndex)):\n"
     ]
    }
   ],
   "source": [
    "pre = model_xgb.predict(X_test)[10:100]\n"
   ]
  },
  {
   "cell_type": "code",
   "execution_count": 51,
   "id": "23858cb6",
   "metadata": {},
   "outputs": [
    {
     "data": {
      "text/plain": [
       "array([227013.2  , 207530.75 ,  82878.555, 553933.5  , 259459.6  ,\n",
       "       320933.7  , 441807.06 , 146546.38 , 416928.94 , 171447.56 ],\n",
       "      dtype=float32)"
      ]
     },
     "execution_count": 51,
     "metadata": {},
     "output_type": "execute_result"
    }
   ],
   "source": [
    "tahmin =  model_xgb.predict(X_test)[10:20]\n",
    "tahmin"
   ]
  },
  {
   "cell_type": "code",
   "execution_count": 52,
   "id": "bdcf74e3",
   "metadata": {},
   "outputs": [
    {
     "data": {
      "text/plain": [
       "459    144000\n",
       "350    270000\n",
       "144     92500\n",
       "222    700000\n",
       "28     208000\n",
       "286    395000\n",
       "117    615000\n",
       "162    122000\n",
       "53     434900\n",
       "190    126900\n",
       "Name: Fiyat, dtype: int64"
      ]
     },
     "execution_count": 52,
     "metadata": {},
     "output_type": "execute_result"
    }
   ],
   "source": [
    "y_test[10:20]"
   ]
  },
  {
   "cell_type": "code",
   "execution_count": 21,
   "id": "ab873b0b",
   "metadata": {},
   "outputs": [
    {
     "data": {
      "text/plain": [
       "[144000, 270000, 92500, 700000, 208000, 395000, 615000, 122000, 434900, 126900]"
      ]
     },
     "execution_count": 21,
     "metadata": {},
     "output_type": "execute_result"
    }
   ],
   "source": [
    "gercek = y_test.tolist()\n",
    "songercek = gercek[10:100]\n",
    "gercek[10:20]\n"
   ]
  },
  {
   "cell_type": "code",
   "execution_count": 22,
   "id": "9ee341b2",
   "metadata": {},
   "outputs": [
    {
     "name": "stdout",
     "output_type": "stream",
     "text": [
      "[227013.203125, 207530.75, 82878.5546875, 553933.5, 259459.59375, 320933.6875, 441807.0625, 146546.375, 416928.9375, 171447.5625, 319355.5625, 63263.9765625, 264665.34375, 397592.46875, 412191.5, 414546.34375, 313922.09375, 127128.2890625, 368026.53125, 759026.75, 368130.125, 476771.0625, 576501.1875, 92999.2734375, 218478.09375, 208856.9375, 681292.0, 123707.015625, 275204.96875, 127833.34375, 571839.375, 143547.78125, 231513.765625, 169840.28125, 105267.4453125, 263375.25, 221341.296875, 135633.203125, 396262.46875, 192613.03125, 409062.84375, 249877.078125, 48626.4140625, 132179.296875, 281981.4375, 256936.921875, 88742.6796875, 337436.78125, 147161.9375, 516540.84375, 224640.484375, 204562.921875, 46548.65625, 293639.0, 182551.015625, 144731.296875, 173027.609375, 340514.875, 332858.0625, 762163.75, 175888.859375, 66369.5078125, 99375.421875, 151292.359375, 140794.953125, 161261.28125, 1143783.375, 133586.046875, 98780.3203125, 431425.0, 213301.015625, 99866.5703125, 580668.8125, 784428.125, 143844.140625, 173611.71875, 238470.75, 295913.1875, 213346.265625, 89461.46875, 170021.0, 153409.21875, 256143.296875, 179901.40625, 87029.53125, 257373.984375, 306777.8125, 211572.796875, 182387.828125, 242278.15625]\n"
     ]
    }
   ],
   "source": [
    "prelist = pre.tolist()\n",
    "print(prelist)"
   ]
  },
  {
   "cell_type": "code",
   "execution_count": 23,
   "id": "f3e11158",
   "metadata": {},
   "outputs": [
    {
     "data": {
      "text/plain": [
       "[<matplotlib.lines.Line2D at 0x266dad5c580>]"
      ]
     },
     "execution_count": 23,
     "metadata": {},
     "output_type": "execute_result"
    },
    {
     "data": {
      "image/png": "[encoded data removed]",
      "text/plain": [
       "<Figure size 432x288 with 1 Axes>"
      ]
     },
     "metadata": {
      "needs_background": "light"
     },
     "output_type": "display_data"
    }
   ],
   "source": [
    "import matplotlib.pyplot as plt\n",
    "\n",
    "plt.figure()\n",
    "plt.plot(pre , 'b')\n",
    "plt.plot(songercek , 'r')"
   ]
  },
  {
   "cell_type": "code",
   "execution_count": null,
   "id": "f29511d6",
   "metadata": {},
   "outputs": [],
   "source": []
  }
 ],
 "metadata": {
  "kernelspec": {
   "display_name": "Python 3 (ipykernel)",
   "language": "python",
   "name": "python3"
  },
  "language_info": {
   "codemirror_mode": {
    "name": "ipython",
    "version": 3
   },
   "file_extension": ".py",
   "mimetype": "text/x-python",
   "name": "python",
   "nbconvert_exporter": "python",
   "pygments_lexer": "ipython3",
   "version": "3.10.4"
  }
 },
 "nbformat": 4,
 "nbformat_minor": 5
}
