{
 "cells": [
  {
   "cell_type": "markdown",
   "id": "b345f9a4",
   "metadata": {},
   "source": [
    "# Veri Ön işleme"
   ]
  },
  {
   "cell_type": "markdown",
   "id": "ef2d0b3c",
   "metadata": {},
   "source": [
    "### Gerekli kütüphaneleri "
   ]
  },
  {
   "cell_type": "code",
   "execution_count": 51,
   "id": "3ca1c5bf",
   "metadata": {
    "scrolled": true
   },
   "outputs": [],
   "source": [
    "import pandas as pd\n",
    "from sklearn import preprocessing \n",
    "le = preprocessing.LabelEncoder()\n"
   ]
  },
  {
   "cell_type": "code",
   "execution_count": 52,
   "id": "af1e6f49",
   "metadata": {},
   "outputs": [],
   "source": [
    "df = pd.read_csv(\"emlak_verisi_newd.csv\")\n",
    "df.drop(\"Unnamed: 0\", axis = 1, inplace = True)\n",
    "df2 = df.copy()\n"
   ]
  },
  {
   "cell_type": "code",
   "execution_count": 53,
   "id": "cac64937",
   "metadata": {},
   "outputs": [],
   "source": [
    "df2[\"Sehir\"] = le.fit_transform(df.Sehir)"
   ]
  },
  {
   "cell_type": "code",
   "execution_count": 54,
   "id": "9c342b48",
   "metadata": {},
   "outputs": [
    {
     "data": {
      "text/plain": [
       "array(['İstanbul'], dtype=object)"
      ]
     },
     "execution_count": 54,
     "metadata": {},
     "output_type": "execute_result"
    }
   ],
   "source": [
    "le.classes_"
   ]
  },
  {
   "cell_type": "code",
   "execution_count": 55,
   "id": "d0a53721",
   "metadata": {},
   "outputs": [
    {
     "data": {
      "text/plain": [
       "array([0])"
      ]
     },
     "execution_count": 55,
     "metadata": {},
     "output_type": "execute_result"
    }
   ],
   "source": [
    "df2.Sehir.unique()"
   ]
  },
  {
   "cell_type": "code",
   "execution_count": null,
   "id": "3f87db07",
   "metadata": {},
   "outputs": [],
   "source": []
  },
  {
   "cell_type": "code",
   "execution_count": 56,
   "id": "704e263b",
   "metadata": {},
   "outputs": [
    {
     "data": {
      "text/plain": [
       "array(['İstanbul'], dtype=object)"
      ]
     },
     "execution_count": 56,
     "metadata": {},
     "output_type": "execute_result"
    }
   ],
   "source": [
    "le.inverse_transform([0])"
   ]
  },
  {
   "cell_type": "markdown",
   "id": "cab2b70f",
   "metadata": {},
   "source": [
    "# Bu şekilde hepsi için fit_trasform işlemi yapıyoruz."
   ]
  },
  {
   "cell_type": "code",
   "execution_count": 57,
   "id": "85dc098f",
   "metadata": {},
   "outputs": [],
   "source": [
    "df2[\"İlce\"] = le.fit_transform(df.İlce)"
   ]
  },
  {
   "cell_type": "code",
   "execution_count": 58,
   "id": "6de106ff",
   "metadata": {},
   "outputs": [],
   "source": [
    "df2[\"Mahalle\"] = le.fit_transform(df.Mahalle)"
   ]
  },
  {
   "cell_type": "code",
   "execution_count": 59,
   "id": "e244d9de",
   "metadata": {},
   "outputs": [],
   "source": [
    "df2[\"Oda Sayısı\"] = le.fit_transform(df[\"Oda Sayısı\"])"
   ]
  },
  {
   "cell_type": "code",
   "execution_count": 60,
   "id": "106933be",
   "metadata": {},
   "outputs": [],
   "source": [
    "df2[\"Binanın Yaşı\"] = le.fit_transform(df[\"Binanın Yaşı\"])"
   ]
  },
  {
   "cell_type": "code",
   "execution_count": 61,
   "id": "d8b9ed9f",
   "metadata": {},
   "outputs": [
    {
     "name": "stderr",
     "output_type": "stream",
     "text": [
      "C:\\Users\\sonay\\AppData\\Local\\Temp\\ipykernel_18128\\411668831.py:4: SettingWithCopyWarning: \n",
      "A value is trying to be set on a copy of a slice from a DataFrame\n",
      "\n",
      "See the caveats in the documentation: https://pandas.pydata.org/pandas-docs/stable/user_guide/indexing.html#returning-a-view-versus-a-copy\n",
      "  df['Bulunduğu Kat'][i] = x[0]\n"
     ]
    }
   ],
   "source": [
    "for i in range(len(df['Bulunduğu Kat'])):\n",
    "     \n",
    "        x = df['Bulunduğu Kat'][i].split(\". Kat\")\n",
    "        df['Bulunduğu Kat'][i] = x[0]\n"
   ]
  },
  {
   "cell_type": "code",
   "execution_count": 62,
   "id": "6cbe5928",
   "metadata": {},
   "outputs": [],
   "source": [
    "df.loc[df[\"Bulunduğu Kat\"] == \"Yüksek Giriş\", \"Bulunduğu Kat\"] = \"Giriş\"\n",
    "df.loc[df[\"Bulunduğu Kat\"] == \"Düz Giriş\", \"Bulunduğu Kat\"] = \"Giriş\""
   ]
  },
  {
   "cell_type": "code",
   "execution_count": 63,
   "id": "f46afc11",
   "metadata": {},
   "outputs": [],
   "source": [
    "df.loc[df[\"Bulunduğu Kat\"] == \"Yüksek Bodrum\", \"Bulunduğu Kat\"] = \"Bodrum\"\n",
    "df.loc[df[\"Bulunduğu Kat\"] == \"Tam Bodrum\", \"Bulunduğu Kat\"] = \"Bodrum\"\n",
    "df.loc[df[\"Bulunduğu Kat\"] == \"Yarı Bodrum\", \"Bulunduğu Kat\"] = \"Bodrum\""
   ]
  },
  {
   "cell_type": "code",
   "execution_count": 64,
   "id": "ebe0528e",
   "metadata": {},
   "outputs": [],
   "source": [
    "df.loc[df[\"Bulunduğu Kat\"] == \"10\", \"Bulunduğu Kat\"] = \"10-20\"\n",
    "df.loc[df[\"Bulunduğu Kat\"]  == \"11\", \"Bulunduğu Kat\"] = \"10-20\"\n",
    "df.loc[df[\"Bulunduğu Kat\"] == \"12\", \"Bulunduğu Kat\"] = \"10-20\"\n",
    "df.loc[df[\"Bulunduğu Kat\"]  == \"13\", \"Bulunduğu Kat\"] = \"10-20\"\n",
    "df.loc[df[\"Bulunduğu Kat\"] == \"14\", \"Bulunduğu Kat\"] = \"10-20\"\n",
    "df.loc[df[\"Bulunduğu Kat\"]  == \"15\", \"Bulunduğu Kat\"] = \"10-20\"\n",
    "df.loc[df[\"Bulunduğu Kat\"]  == \"16\", \"Bulunduğu Kat\"] = \"10-20\"\n",
    "df.loc[df[\"Bulunduğu Kat\"]  == \"17\", \"Bulunduğu Kat\"] = \"10-20\"\n",
    "df.loc[df[\"Bulunduğu Kat\"]  == \"18\", \"Bulunduğu Kat\"] = \"10-20\"\n",
    "df.loc[df[\"Bulunduğu Kat\"] == \"19\", \"Bulunduğu Kat\"] = \"10-20\"\n",
    "df.loc[df[\"Bulunduğu Kat\"]  == \"20\", \"Bulunduğu Kat\"] = \"10-20\""
   ]
  },
  {
   "cell_type": "code",
   "execution_count": 65,
   "id": "f43545a4",
   "metadata": {},
   "outputs": [],
   "source": [
    "df.loc[df[\"Bulunduğu Kat\"]== \"21\", \"Bulunduğu Kat\"] = \"21-29\"\n",
    "df.loc[df[\"Bulunduğu Kat\"] == \"22\", \"Bulunduğu Kat\"] = \"21-29\"\n",
    "df.loc[df[\"Bulunduğu Kat\"] == \"23\", \"Bulunduğu Kat\"] = \"21-29\"\n",
    "df.loc[df[\"Bulunduğu Kat\"] == \"24\", \"Bulunduğu Kat\"] = \"21-29\"\n",
    "df.loc[df[\"Bulunduğu Kat\"] == \"25\", \"Bulunduğu Kat\"] = \"21-29\"\n",
    "df.loc[df[\"Bulunduğu Kat\"] == \"26\", \"Bulunduğu Kat\"] = \"21-29\"\n",
    "df.loc[df[\"Bulunduğu Kat\"] == \"27\", \"Bulunduğu Kat\"] = \"21-29\"\n",
    "df.loc[df[\"Bulunduğu Kat\"] == \"28\", \"Bulunduğu Kat\"] = \"21-29\"\n",
    "df.loc[df[\"Bulunduğu Kat\"] == \"29\", \"Bulunduğu Kat\"] = \"21-29\""
   ]
  },
  {
   "cell_type": "code",
   "execution_count": 66,
   "id": "132142d1",
   "metadata": {},
   "outputs": [],
   "source": [
    "df.loc[df[\"Bulunduğu Kat\"] == \"Kot 1 (-1)\" , \"Bulunduğu Kat\"] = \"-1\" \n",
    "df.loc[df[\"Bulunduğu Kat\"] == \"Kot 2 (-2)\" , \"Bulunduğu Kat\"] = \"-2\" \n",
    "df.loc[df[\"Bulunduğu Kat\"] == \"Kot 3 (-3)\" , \"Bulunduğu Kat\"] = \"-3\" "
   ]
  },
  {
   "cell_type": "code",
   "execution_count": 67,
   "id": "d10b9d04",
   "metadata": {},
   "outputs": [
    {
     "data": {
      "text/html": [
       "<div>\n",
       "<style scoped>\n",
       "    .dataframe tbody tr th:only-of-type {\n",
       "        vertical-align: middle;\n",
       "    }\n",
       "\n",
       "    .dataframe tbody tr th {\n",
       "        vertical-align: top;\n",
       "    }\n",
       "\n",
       "    .dataframe thead th {\n",
       "        text-align: right;\n",
       "    }\n",
       "</style>\n",
       "<table border=\"1\" class=\"dataframe\">\n",
       "  <thead>\n",
       "    <tr style=\"text-align: right;\">\n",
       "      <th></th>\n",
       "      <th>Sehir</th>\n",
       "      <th>İlce</th>\n",
       "      <th>Mahalle</th>\n",
       "      <th>Fiyat</th>\n",
       "      <th>brüt metrekare</th>\n",
       "      <th>Net Metrekare</th>\n",
       "      <th>Oda Sayısı</th>\n",
       "      <th>Binanın Yaşı</th>\n",
       "      <th>Bulunduğu Kat</th>\n",
       "    </tr>\n",
       "  </thead>\n",
       "  <tbody>\n",
       "    <tr>\n",
       "      <th>0</th>\n",
       "      <td>İstanbul</td>\n",
       "      <td>Kartal</td>\n",
       "      <td>Cumhuriyet Mahallesi</td>\n",
       "      <td>1890000</td>\n",
       "      <td>107</td>\n",
       "      <td>70</td>\n",
       "      <td>2+1</td>\n",
       "      <td>5-10</td>\n",
       "      <td>10-20</td>\n",
       "    </tr>\n",
       "    <tr>\n",
       "      <th>1</th>\n",
       "      <td>İstanbul</td>\n",
       "      <td>Kartal</td>\n",
       "      <td>Çavuşoğlu Mahallesi</td>\n",
       "      <td>1310000</td>\n",
       "      <td>120</td>\n",
       "      <td>105</td>\n",
       "      <td>3+1</td>\n",
       "      <td>0 (Yeni)</td>\n",
       "      <td>Bahçe Katı</td>\n",
       "    </tr>\n",
       "    <tr>\n",
       "      <th>2</th>\n",
       "      <td>İstanbul</td>\n",
       "      <td>Başakşehir</td>\n",
       "      <td>Kayabaşı Mahallesi</td>\n",
       "      <td>900000</td>\n",
       "      <td>75</td>\n",
       "      <td>68</td>\n",
       "      <td>2+1</td>\n",
       "      <td>5-10</td>\n",
       "      <td>5</td>\n",
       "    </tr>\n",
       "    <tr>\n",
       "      <th>3</th>\n",
       "      <td>İstanbul</td>\n",
       "      <td>Beylikdüzü</td>\n",
       "      <td>Adnan Kahveci Mahallesi</td>\n",
       "      <td>1575000</td>\n",
       "      <td>200</td>\n",
       "      <td>185</td>\n",
       "      <td>3+1</td>\n",
       "      <td>11-15</td>\n",
       "      <td>5</td>\n",
       "    </tr>\n",
       "    <tr>\n",
       "      <th>4</th>\n",
       "      <td>İstanbul</td>\n",
       "      <td>Eyüpsultan</td>\n",
       "      <td>Nişancı Mahallesi</td>\n",
       "      <td>775000</td>\n",
       "      <td>100</td>\n",
       "      <td>90</td>\n",
       "      <td>2+1</td>\n",
       "      <td>21 Ve Üzeri</td>\n",
       "      <td>4</td>\n",
       "    </tr>\n",
       "    <tr>\n",
       "      <th>...</th>\n",
       "      <td>...</td>\n",
       "      <td>...</td>\n",
       "      <td>...</td>\n",
       "      <td>...</td>\n",
       "      <td>...</td>\n",
       "      <td>...</td>\n",
       "      <td>...</td>\n",
       "      <td>...</td>\n",
       "      <td>...</td>\n",
       "    </tr>\n",
       "    <tr>\n",
       "      <th>1405</th>\n",
       "      <td>İstanbul</td>\n",
       "      <td>Beylikdüzü</td>\n",
       "      <td>Adnan Kahveci Mahallesi</td>\n",
       "      <td>1575000</td>\n",
       "      <td>140</td>\n",
       "      <td>125</td>\n",
       "      <td>2+1</td>\n",
       "      <td>5-10</td>\n",
       "      <td>Villa Tipi</td>\n",
       "    </tr>\n",
       "    <tr>\n",
       "      <th>1406</th>\n",
       "      <td>İstanbul</td>\n",
       "      <td>Beykoz</td>\n",
       "      <td>Çubuklu Mahallesi</td>\n",
       "      <td>200000000</td>\n",
       "      <td>1500</td>\n",
       "      <td>1100</td>\n",
       "      <td>6+1</td>\n",
       "      <td>21 Ve Üzeri</td>\n",
       "      <td>Müstakil</td>\n",
       "    </tr>\n",
       "    <tr>\n",
       "      <th>1407</th>\n",
       "      <td>İstanbul</td>\n",
       "      <td>Avcılar</td>\n",
       "      <td>Gümüşpala Mahallesi</td>\n",
       "      <td>495000</td>\n",
       "      <td>130</td>\n",
       "      <td>110</td>\n",
       "      <td>3+1</td>\n",
       "      <td>21 Ve Üzeri</td>\n",
       "      <td>2</td>\n",
       "    </tr>\n",
       "    <tr>\n",
       "      <th>1408</th>\n",
       "      <td>İstanbul</td>\n",
       "      <td>Avcılar</td>\n",
       "      <td>Denizköşkler Mahallesi</td>\n",
       "      <td>390000</td>\n",
       "      <td>110</td>\n",
       "      <td>100</td>\n",
       "      <td>3+1</td>\n",
       "      <td>21 Ve Üzeri</td>\n",
       "      <td>1</td>\n",
       "    </tr>\n",
       "    <tr>\n",
       "      <th>1409</th>\n",
       "      <td>İstanbul</td>\n",
       "      <td>Esenyurt</td>\n",
       "      <td>Çınar Mahallesi</td>\n",
       "      <td>450000</td>\n",
       "      <td>100</td>\n",
       "      <td>90</td>\n",
       "      <td>2+1</td>\n",
       "      <td>5-10</td>\n",
       "      <td>1</td>\n",
       "    </tr>\n",
       "  </tbody>\n",
       "</table>\n",
       "<p>1410 rows × 9 columns</p>\n",
       "</div>"
      ],
      "text/plain": [
       "         Sehir        İlce                  Mahalle      Fiyat  \\\n",
       "0     İstanbul      Kartal     Cumhuriyet Mahallesi    1890000   \n",
       "1     İstanbul      Kartal      Çavuşoğlu Mahallesi    1310000   \n",
       "2     İstanbul  Başakşehir       Kayabaşı Mahallesi     900000   \n",
       "3     İstanbul  Beylikdüzü  Adnan Kahveci Mahallesi    1575000   \n",
       "4     İstanbul  Eyüpsultan        Nişancı Mahallesi     775000   \n",
       "...        ...         ...                      ...        ...   \n",
       "1405  İstanbul  Beylikdüzü  Adnan Kahveci Mahallesi    1575000   \n",
       "1406  İstanbul      Beykoz        Çubuklu Mahallesi  200000000   \n",
       "1407  İstanbul     Avcılar      Gümüşpala Mahallesi     495000   \n",
       "1408  İstanbul     Avcılar   Denizköşkler Mahallesi     390000   \n",
       "1409  İstanbul    Esenyurt          Çınar Mahallesi     450000   \n",
       "\n",
       "      brüt metrekare  Net Metrekare Oda Sayısı Binanın Yaşı Bulunduğu Kat  \n",
       "0                107             70        2+1         5-10         10-20  \n",
       "1                120            105        3+1     0 (Yeni)    Bahçe Katı  \n",
       "2                 75             68        2+1         5-10             5  \n",
       "3                200            185        3+1        11-15             5  \n",
       "4                100             90        2+1  21 Ve Üzeri             4  \n",
       "...              ...            ...        ...          ...           ...  \n",
       "1405             140            125        2+1         5-10    Villa Tipi  \n",
       "1406            1500           1100        6+1  21 Ve Üzeri      Müstakil  \n",
       "1407             130            110        3+1  21 Ve Üzeri             2  \n",
       "1408             110            100        3+1  21 Ve Üzeri             1  \n",
       "1409             100             90        2+1         5-10             1  \n",
       "\n",
       "[1410 rows x 9 columns]"
      ]
     },
     "execution_count": 67,
     "metadata": {},
     "output_type": "execute_result"
    }
   ],
   "source": [
    "df"
   ]
  },
  {
   "cell_type": "code",
   "execution_count": 68,
   "id": "5a8fd2c9",
   "metadata": {},
   "outputs": [],
   "source": [
    "df['Bulunduğu Kat'] = df['Bulunduğu Kat'].astype(str)"
   ]
  },
  {
   "cell_type": "code",
   "execution_count": 69,
   "id": "85001d7c",
   "metadata": {},
   "outputs": [],
   "source": [
    "df[\"Bulunduğu Kat\"] = le.fit_transform(df[\"Bulunduğu Kat\"])"
   ]
  },
  {
   "cell_type": "code",
   "execution_count": 70,
   "id": "8c9737ef",
   "metadata": {},
   "outputs": [
    {
     "data": {
      "text/plain": [
       "array(['-1', '-3', '1', '10-20', '2', '21-29', '3', '4', '5', '6', '7',\n",
       "       '8', '9', 'Bahçe Dublex', 'Bahçe Katı', 'Giriş', 'Müstakil',\n",
       "       'Villa Tipi', 'Çatı Dubleks', 'Çatı Katı'], dtype=object)"
      ]
     },
     "execution_count": 70,
     "metadata": {},
     "output_type": "execute_result"
    }
   ],
   "source": [
    "le.classes_"
   ]
  },
  {
   "cell_type": "code",
   "execution_count": 71,
   "id": "ac9b48d6",
   "metadata": {},
   "outputs": [
    {
     "data": {
      "text/plain": [
       "array(['20', 'Bahçe Katı', '5', '4', '3', 'Villa Tipi', '6',\n",
       "       'Yüksek Giriş', 'Çatı Katı', '1', '8', 'Müstakil', '7', '9',\n",
       "       'Düz Giriş', '2', '28', '15', '18', '13', '10', 'Bahçe Dublex',\n",
       "       '12', 'Çatı Dubleks', '11', 'Kot 3 (-3)', '21', 'Kot 1 (-1)'],\n",
       "      dtype=object)"
      ]
     },
     "execution_count": 71,
     "metadata": {},
     "output_type": "execute_result"
    }
   ],
   "source": [
    "df2[\"Bulunduğu Kat\"].unique()"
   ]
  },
  {
   "cell_type": "code",
   "execution_count": null,
   "id": "0a02c5e7",
   "metadata": {},
   "outputs": [],
   "source": []
  },
  {
   "cell_type": "code",
   "execution_count": null,
   "id": "bdd8bb62",
   "metadata": {},
   "outputs": [],
   "source": []
  },
  {
   "cell_type": "code",
   "execution_count": 224,
   "id": "cc60b39a",
   "metadata": {},
   "outputs": [],
   "source": [
    "df2.to_csv(\"emlak_verisi_new2.csv\")"
   ]
  }
 ],
 "metadata": {
  "kernelspec": {
   "display_name": "Python 3 (ipykernel)",
   "language": "python",
   "name": "python3"
  },
  "language_info": {
   "codemirror_mode": {
    "name": "ipython",
    "version": 3
   },
   "file_extension": ".py",
   "mimetype": "text/x-python",
   "name": "python",
   "nbconvert_exporter": "python",
   "pygments_lexer": "ipython3",
   "version": "3.10.4"
  }
 },
 "nbformat": 4,
 "nbformat_minor": 5
}
